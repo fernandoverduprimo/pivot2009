{
  "nbformat": 4,
  "nbformat_minor": 0,
  "metadata": {
    "kernelspec": {
      "display_name": "Python (kernel-py)",
      "language": "python",
      "name": "kernel-py"
    },
    "language_info": {
      "codemirror_mode": {
        "name": "ipython",
        "version": 3
      },
      "file_extension": ".py",
      "mimetype": "text/x-python",
      "name": "python",
      "nbconvert_exporter": "python",
      "pygments_lexer": "ipython3",
      "version": "3.6.6"
    },
    "colab": {
      "name": "Seminario y Actividad Guiada I - Análisis de calidad de datos - Versión 08-06-2020.ipynb",
      "provenance": [],
      "collapsed_sections": [],
      "include_colab_link": true
    }
  },
  "cells": [
    {
      "cell_type": "markdown",
      "metadata": {
        "id": "view-in-github",
        "colab_type": "text"
      },
      "source": [
        "<a href=\"https://colab.research.google.com/github/fernandoverduprimo/pivot2009/blob/master/Seminario_y_Actividad_Guiada_I_Ana%CC%81lisis_de_calidad_de_datos_Versio%CC%81n_08_06_2020.ipynb\" target=\"_parent\"><img src=\"https://colab.research.google.com/assets/colab-badge.svg\" alt=\"Open In Colab\"/></a>"
      ]
    },
    {
      "cell_type": "markdown",
      "metadata": {
        "id": "krkhgfD2QX2O",
        "colab_type": "text"
      },
      "source": [
        "## Carga de librerías necesarias para el procesamiento del dataset"
      ]
    },
    {
      "cell_type": "code",
      "metadata": {
        "id": "X2BkNbYAQX2P",
        "colab_type": "code",
        "colab": {}
      },
      "source": [
        "#Se importan las librerias a utilizar\n",
        "\n",
        "import pandas as pd\n",
        "import numpy as np\n",
        "import matplotlib.pyplot as plt\n",
        "%matplotlib inline"
      ],
      "execution_count": 2,
      "outputs": []
    },
    {
      "cell_type": "markdown",
      "metadata": {
        "id": "DL345UR_QX2T",
        "colab_type": "text"
      },
      "source": [
        "## Análisisdel dataset\n",
        "\n",
        "### Lectura del archivo de datos"
      ]
    },
    {
      "cell_type": "code",
      "metadata": {
        "id": "7sCdHT_8QX2T",
        "colab_type": "code",
        "colab": {
          "base_uri": "https://localhost:8080/",
          "height": 217
        },
        "outputId": "41fc590e-fcc0-4a6a-9948-720dd206960f"
      },
      "source": [
        "#Lectura del dataset\n",
        "\n",
        "academicos = pd.read_csv('https://raw.githubusercontent.com/fernandoverduprimo/pivot2009/master/Seminario-I-Plantilla_v08062020(1).csv', ',', index_col='Unnamed: 0')\n",
        "academicos.head(5)"
      ],
      "execution_count": 3,
      "outputs": [
        {
          "output_type": "execute_result",
          "data": {
            "text/html": [
              "<div>\n",
              "<style scoped>\n",
              "    .dataframe tbody tr th:only-of-type {\n",
              "        vertical-align: middle;\n",
              "    }\n",
              "\n",
              "    .dataframe tbody tr th {\n",
              "        vertical-align: top;\n",
              "    }\n",
              "\n",
              "    .dataframe thead th {\n",
              "        text-align: right;\n",
              "    }\n",
              "</style>\n",
              "<table border=\"1\" class=\"dataframe\">\n",
              "  <thead>\n",
              "    <tr style=\"text-align: right;\">\n",
              "      <th></th>\n",
              "      <th>unidad_academica</th>\n",
              "      <th>carrera</th>\n",
              "      <th>nro_inscripcion</th>\n",
              "      <th>regular</th>\n",
              "      <th>cnt_readmisiones</th>\n",
              "      <th>calidad</th>\n",
              "      <th>anio_plan_estudios</th>\n",
              "      <th>fecha_ingreso_alumno</th>\n",
              "    </tr>\n",
              "  </thead>\n",
              "  <tbody>\n",
              "    <tr>\n",
              "      <th>0</th>\n",
              "      <td>FCEQN</td>\n",
              "      <td>170</td>\n",
              "      <td>FCEQN-3342</td>\n",
              "      <td>S</td>\n",
              "      <td>0.0</td>\n",
              "      <td>A</td>\n",
              "      <td>2005.0</td>\n",
              "      <td>02/28/2011</td>\n",
              "    </tr>\n",
              "    <tr>\n",
              "      <th>1</th>\n",
              "      <td>FCEQN</td>\n",
              "      <td>102</td>\n",
              "      <td>FCEQN-5396</td>\n",
              "      <td>S</td>\n",
              "      <td>0.0</td>\n",
              "      <td>A</td>\n",
              "      <td>2005.0</td>\n",
              "      <td>12/12/2010</td>\n",
              "    </tr>\n",
              "    <tr>\n",
              "      <th>2</th>\n",
              "      <td>FCEQN</td>\n",
              "      <td>143</td>\n",
              "      <td>FCEQN-3162</td>\n",
              "      <td>S</td>\n",
              "      <td>0.0</td>\n",
              "      <td>A</td>\n",
              "      <td>2008.0</td>\n",
              "      <td>07/03/2011</td>\n",
              "    </tr>\n",
              "    <tr>\n",
              "      <th>3</th>\n",
              "      <td>FCEQN</td>\n",
              "      <td>106</td>\n",
              "      <td>FCEQN-5739</td>\n",
              "      <td>S</td>\n",
              "      <td>0.0</td>\n",
              "      <td>A</td>\n",
              "      <td>2008.0</td>\n",
              "      <td>12/03/2011</td>\n",
              "    </tr>\n",
              "    <tr>\n",
              "      <th>4</th>\n",
              "      <td>FCEQN</td>\n",
              "      <td>172</td>\n",
              "      <td>4683</td>\n",
              "      <td>S</td>\n",
              "      <td>0.0</td>\n",
              "      <td>A</td>\n",
              "      <td>2005.0</td>\n",
              "      <td>03/15/2011</td>\n",
              "    </tr>\n",
              "  </tbody>\n",
              "</table>\n",
              "</div>"
            ],
            "text/plain": [
              "  unidad_academica carrera  ... anio_plan_estudios fecha_ingreso_alumno\n",
              "0            FCEQN     170  ...             2005.0           02/28/2011\n",
              "1            FCEQN     102  ...             2005.0           12/12/2010\n",
              "2            FCEQN     143  ...             2008.0           07/03/2011\n",
              "3            FCEQN     106  ...             2008.0           12/03/2011\n",
              "4            FCEQN     172  ...             2005.0           03/15/2011\n",
              "\n",
              "[5 rows x 8 columns]"
            ]
          },
          "metadata": {
            "tags": []
          },
          "execution_count": 3
        }
      ]
    },
    {
      "cell_type": "markdown",
      "metadata": {
        "id": "Zqnam9D9QX2W",
        "colab_type": "text"
      },
      "source": [
        "### Registro de meta-datos del dataset\n",
        "\n",
        "Se van a registrar:\n",
        "* Los tipos de datos por atributo\n",
        "* El rango de valores que presenta\n",
        "* Algunas características de los valores"
      ]
    },
    {
      "cell_type": "markdown",
      "metadata": {
        "id": "PHAAPqxJQX2X",
        "colab_type": "text"
      },
      "source": [
        "#### Se usa el método .info() para obtener datos crudos sobre los atributos del dataset y su contenido"
      ]
    },
    {
      "cell_type": "code",
      "metadata": {
        "id": "thvX9Hk-QX2X",
        "colab_type": "code",
        "colab": {
          "base_uri": "https://localhost:8080/",
          "height": 336
        },
        "outputId": "d15e5781-a1d1-41a1-b77f-1619f65b30c7"
      },
      "source": [
        "#Vista de los tipos de datos y datos básicos\n",
        "\n",
        "academicos.info()\n",
        "\n",
        "print(\"-------------------------------------\")\n",
        "print(f\"Cantidad de filas: {academicos.shape[0]}\")\n",
        "print(f\"Cantidad de columnas: {academicos.shape[1]}\")"
      ],
      "execution_count": 4,
      "outputs": [
        {
          "output_type": "stream",
          "text": [
            "<class 'pandas.core.frame.DataFrame'>\n",
            "Int64Index: 2316 entries, 0 to 2315\n",
            "Data columns (total 8 columns):\n",
            " #   Column                Non-Null Count  Dtype  \n",
            "---  ------                --------------  -----  \n",
            " 0   unidad_academica      2316 non-null   object \n",
            " 1   carrera               2314 non-null   object \n",
            " 2   nro_inscripcion       2316 non-null   object \n",
            " 3   regular               2305 non-null   object \n",
            " 4   cnt_readmisiones      2305 non-null   float64\n",
            " 5   calidad               2306 non-null   object \n",
            " 6   anio_plan_estudios    2310 non-null   float64\n",
            " 7   fecha_ingreso_alumno  2311 non-null   object \n",
            "dtypes: float64(2), object(6)\n",
            "memory usage: 162.8+ KB\n",
            "-------------------------------------\n",
            "Cantidad de filas: 2316\n",
            "Cantidad de columnas: 8\n"
          ],
          "name": "stdout"
        }
      ]
    },
    {
      "cell_type": "markdown",
      "metadata": {
        "id": "nbn8_sypQX2b",
        "colab_type": "text"
      },
      "source": [
        "#### Para conocer los valores únicos por atributo y su distribución se usan los métodos .unique() y .value_counts()\n",
        "\n",
        "**.unique()**: lista las ocurrencias de valores únicos en el atributo  \n",
        "**.value_counts()**: por cada valor del atributo muestra la cantidad de filas que registran tal valor"
      ]
    },
    {
      "cell_type": "markdown",
      "metadata": {
        "id": "KGgzzhoBQX2c",
        "colab_type": "text"
      },
      "source": [
        "**Tipos nominales (string)**"
      ]
    },
    {
      "cell_type": "code",
      "metadata": {
        "id": "sq_Pym30QX2c",
        "colab_type": "code",
        "colab": {
          "base_uri": "https://localhost:8080/",
          "height": 87
        },
        "outputId": "d4ce2dab-c57f-4326-869b-c6ba397cadbf"
      },
      "source": [
        "#Vista de los valores únicos en los atributos de tipo string\n",
        "\n",
        "print(f\"Valores presentes en el atributo: {academicos['unidad_academica'].unique()} \\n\")\n",
        "\n",
        "#Vista de la cantidad de ocurrencias de cada valor\n",
        "\n",
        "print(f\"Conteo de ocurrencias por valor: {academicos['unidad_academica'].value_counts()}\")"
      ],
      "execution_count": 5,
      "outputs": [
        {
          "output_type": "stream",
          "text": [
            "Valores presentes en el atributo: ['FCEQN'] \n",
            "\n",
            "Conteo de ocurrencias por valor: FCEQN    2316\n",
            "Name: unidad_academica, dtype: int64\n"
          ],
          "name": "stdout"
        }
      ]
    },
    {
      "cell_type": "code",
      "metadata": {
        "id": "NGBxjpxpQX2g",
        "colab_type": "code",
        "colab": {
          "base_uri": "https://localhost:8080/",
          "height": 410
        },
        "outputId": "066ff68e-8b1d-4035-963f-f904ded7d8d5"
      },
      "source": [
        "#Vista de los valores únicos en los atributos de tipo string\n",
        "\n",
        "print(f\"Valores presentes en el atributo: {academicos['carrera'].unique()} \\n\")\n",
        "\n",
        "#Vista de la cantidad de ocurrencias de cada valor\n",
        "\n",
        "print(f\"Conteo de ocurrencias por valor: {academicos['carrera'].value_counts()}\")"
      ],
      "execution_count": 6,
      "outputs": [
        {
          "output_type": "stream",
          "text": [
            "Valores presentes en el atributo: ['170' '102' '143' '106' '172' 'SAC' '114' '147' '101' '104' '103' '105'\n",
            " nan '601' '314' '600' '108' '111'] \n",
            "\n",
            "Conteo de ocurrencias por valor: 147    412\n",
            "172    404\n",
            "104    332\n",
            "102    328\n",
            "101    251\n",
            "106    180\n",
            "143    128\n",
            "SAC    107\n",
            "170     86\n",
            "114     29\n",
            "111     27\n",
            "105     18\n",
            "108      6\n",
            "103      3\n",
            "600      1\n",
            "314      1\n",
            "601      1\n",
            "Name: carrera, dtype: int64\n"
          ],
          "name": "stdout"
        }
      ]
    },
    {
      "cell_type": "code",
      "metadata": {
        "id": "t5ZuU-g_KKHF",
        "colab_type": "code",
        "colab": {
          "base_uri": "https://localhost:8080/",
          "height": 176
        },
        "outputId": "18e4403b-db09-4d86-e92f-63bf21526a2d"
      },
      "source": [
        "#Vista de los valores únicos en los atributos de tipo string\n",
        "\n",
        "print(f\"Valores presentes en el atributo: {academicos['calidad'].unique()} \\n\")\n",
        "\n",
        "#Vista de la cantidad de ocurrencias de cada valor\n",
        "\n",
        "print(f\"Conteo de ocurrencias por valor: {academicos['calidad'].value_counts()}\")"
      ],
      "execution_count": 7,
      "outputs": [
        {
          "output_type": "stream",
          "text": [
            "Valores presentes en el atributo: ['A' 'P' 'E' 'N' nan 'X' 'G'] \n",
            "\n",
            "Conteo de ocurrencias por valor: A    2083\n",
            "P     209\n",
            "E      10\n",
            "N       2\n",
            "X       1\n",
            "G       1\n",
            "Name: calidad, dtype: int64\n"
          ],
          "name": "stdout"
        }
      ]
    },
    {
      "cell_type": "code",
      "metadata": {
        "id": "uAHwPEyLKg9d",
        "colab_type": "code",
        "colab": {
          "base_uri": "https://localhost:8080/",
          "height": 1000
        },
        "outputId": "794e2df2-d2d9-44c0-b359-fe42482fbfd3"
      },
      "source": [
        "#Vista de los valores únicos en los atributos de tipo string\n",
        "\n",
        "print(f\"Valores presentes en el atributo: {academicos['fecha_ingreso_alumno'].unique()} \\n\")\n",
        "\n",
        "#Vista de la cantidad de ocurrencias de cada valor\n",
        "\n",
        "print(f\"Conteo de ocurrencias por valor: {academicos['fecha_ingreso_alumno'].value_counts()}\")"
      ],
      "execution_count": 8,
      "outputs": [
        {
          "output_type": "stream",
          "text": [
            "Valores presentes en el atributo: ['02/28/2011' '12/12/2010' '07/03/2011' '12/03/2011' '03/15/2011'\n",
            " '05/12/2010' '12/14/2010' '12/19/2010' '01/30/2011' '04/12/2010'\n",
            " '12/15/2010' '11/30/2010' '01/31/2011' '11/12/2010' '01/02/2011'\n",
            " '01/12/2010' '12/18/2010' '02/26/2011' '02/27/2011' '03/21/2011'\n",
            " '03/28/2011' '03/29/2011' '03/30/2011' '10/04/2011' '02/16/2010'\n",
            " '07/12/2010' '12/04/2011' '07/02/2011' '06/12/2010' '12/13/2010'\n",
            " '04/13/2011' '04/17/2011' '07/02/2006' '02/26/2008' '05/19/1996'\n",
            " '04/24/2004' '04/04/2009' '04/12/2007' '03/03/2007' '06/04/2009'\n",
            " '04/20/2011' '03/23/2011' '04/18/2011' '04/23/2011' '12/28/2010'\n",
            " '02/02/2011' '04/24/2011' '11/28/2010' '05/02/2011' '04/25/2011'\n",
            " '11/29/2010' '04/26/2011' '02/03/2011' '02/15/2011' '12/20/2010'\n",
            " '04/27/2011' '10/05/2011' '05/14/2011' '05/16/2011' '05/15/2011'\n",
            " '12/12/2007' '12/26/2005' '03/05/2004' '04/13/2009' '08/23/2011'\n",
            " '04/20/2010' '05/09/2011' '01/03/2000' '08/02/1995' '01/03/2010'\n",
            " '10/02/1998' '02/19/2003' '02/05/2004' '04/26/2004' '02/05/2005'\n",
            " '06/13/2005' '12/17/2007' '12/12/2005' '02/12/2006' '10/12/2006'\n",
            " '12/18/2006' '12/20/2006' '04/03/2007' '03/29/2009' '05/04/2009'\n",
            " '04/25/2010' '04/26/2010' '04/28/2010' '01/03/2011' '11/05/2005'\n",
            " '03/15/2009' '02/27/2012' '02/29/2012' '02/18/2012' '04/03/2012'\n",
            " '05/03/2012' '07/03/2012' '10/03/2012' '11/03/2012' '02/22/2012'\n",
            " '03/25/2012' '03/26/2012' '03/27/2012' '03/28/2012' '12/12/2011'\n",
            " '12/17/2011' '12/13/2011' '06/12/2011' '04/12/2011' '12/14/2011'\n",
            " '11/12/2011' '02/13/2012' '03/12/2011' '01/31/2012' '05/12/2011'\n",
            " '03/04/2012' '07/12/2011' '11/29/2011' '04/04/2012' '06/02/2012'\n",
            " '11/27/2011' '07/02/2012' '05/02/2012' '07/04/2012' '01/30/2012'\n",
            " '10/04/2012' '04/24/2010' '05/15/2010' '12/19/2011' '02/28/2012'\n",
            " '11/28/2011' '01/02/2012' '04/02/2012' '04/14/2012' '02/25/2012'\n",
            " '02/14/2012' '04/15/2012' '01/29/2012' '12/27/2011' '09/04/2012'\n",
            " '11/04/2012' '04/17/2012' '11/02/2012' '12/02/2012' '04/18/2012'\n",
            " '04/21/2012' '04/22/2012' '02/19/2012' '04/23/2012' '04/28/2012'\n",
            " '12/21/2011' '07/05/2012' '02/04/1994' '03/30/2009' '01/03/1991'\n",
            " '08/02/2006' '02/17/2008' '04/12/2006' '05/14/2005' '12/18/2005'\n",
            " '12/16/2007' '12/23/1997' '04/19/2010' '12/18/2011' '11/30/2011'\n",
            " '07/28/2001' '05/02/2007' '03/26/2011' '10/12/2007' '06/12/2005'\n",
            " '12/22/2007' '02/20/2007' '04/14/2009' '09/12/2006' '03/27/2011'\n",
            " '11/12/2007' '09/05/2005' '09/03/2011' '05/15/2005' '08/09/2009'\n",
            " '12/16/1996' '05/04/2010' '12/18/2007' '02/14/1998' '08/04/2009'\n",
            " '09/03/2013' '10/03/2013' '11/03/2013' '12/03/2013' '03/16/2013'\n",
            " '03/20/2013' '11/24/2012' '12/30/2012' '11/26/2012' '11/27/2012'\n",
            " '03/23/2013' '12/18/2012' '03/12/2012' '12/15/2012' '11/25/2012'\n",
            " '03/25/2013' '09/02/2013' '03/17/2013' '12/16/2012' '11/28/2012'\n",
            " '12/19/2012' '03/27/2013' '03/26/2013' '12/12/2012' '04/12/2012'\n",
            " '04/02/2013' '05/12/2012' '03/30/2013' '10/12/2012' '02/12/2012'\n",
            " '09/12/2012' '12/17/2012' '01/12/2012' '02/02/2013' '11/12/2012'\n",
            " '06/02/2013' '01/04/2013' '05/02/2013' '02/12/2007' '12/22/2012'\n",
            " '02/18/2013' '06/04/2013' '07/04/2013' '10/02/2013' '03/02/2013'\n",
            " '04/13/2013' '04/14/2013' '04/15/2013' nan '04/17/2013' '04/20/2013'\n",
            " '02/13/2013' '04/23/2013' '06/02/2011' '03/05/2010' '08/16/2006'\n",
            " '12/16/2006' '12/26/2010' '12/05/2010' '06/05/2013' '07/05/2013'\n",
            " '08/06/2013' '03/07/2013' '08/31/2013' '02/25/2007' '03/09/2013'\n",
            " '04/11/2013' '08/10/2008' '02/17/2014' '02/18/2014' '02/22/2014'\n",
            " '02/23/2014' '02/24/2014' '02/25/2014' '02/26/2014' '02/03/2014'\n",
            " '03/03/2014' '01/12/2013' '04/03/2014' '05/03/2014' '08/03/2014'\n",
            " '12/16/2013' '09/03/2014' '10/03/2014' '11/03/2014' '05/02/2014'\n",
            " '12/03/2014' '02/20/2003' '09/02/2014' '12/14/2013' '03/15/2014'\n",
            " '11/25/2013' '10/02/2014' '12/02/2014' '03/16/2014' '03/17/2014'\n",
            " '11/30/2013' '03/18/2014' '09/12/2013' '01/02/2014' '03/12/2013'\n",
            " '03/22/2014' '12/15/2013' '11/26/2013' '03/23/2014' '04/02/2014'\n",
            " '11/12/2013' '11/24/2013' '12/17/2013' '02/02/2014' '12/22/2013'\n",
            " '10/12/2013' '03/25/2014' '04/12/2013' '02/12/2013' '12/18/2013'\n",
            " '03/29/2014' '07/12/2013' '03/02/2014' '03/26/2014' '03/30/2014'\n",
            " '12/21/2013' '08/02/2014' '05/04/2014' '02/19/2014' '02/16/2014'\n",
            " '06/04/2014' '08/04/2014' '09/04/2014' '12/04/2014' '04/19/2014'\n",
            " '04/20/2014' '09/03/1999' '03/14/2012' '12/05/2012' '03/28/2009'\n",
            " '06/03/2012' '12/03/2012' '01/04/2012' '08/02/2012' '12/19/2007'\n",
            " '04/27/2010' '02/05/2011' '05/03/2011' '05/17/2010' '07/05/2011'\n",
            " '04/21/2014' '04/22/2014' '04/23/2014' '04/26/2014' '04/28/2014'\n",
            " '04/30/2014' '03/05/2014' '11/02/2014' '02/05/2012' '04/30/2012'\n",
            " '08/09/2014' '10/29/2014' '01/12/2014' '04/02/2015' '08/02/2015'\n",
            " '02/14/2015' '12/17/2005' '02/18/2015' '02/21/2015' '02/23/2015'\n",
            " '02/24/2015' '02/25/2015' '02/28/2015' '01/03/2015' '03/03/2015'\n",
            " '09/03/2015' '10/03/2015' '11/03/2015' '04/21/2010' '03/14/2015'\n",
            " '12/21/2014' '07/12/2014' '02/12/2014' '12/16/2014' '10/12/2014'\n",
            " '03/15/2015' '12/13/2014' '03/12/2014' '03/16/2015' '12/22/2014'\n",
            " '12/17/2014' '03/17/2015' '07/02/2015' '03/21/2015' '03/22/2015'\n",
            " '06/12/2014' '02/02/2015' '03/28/2015' '12/27/2014' '09/12/2014'\n",
            " '03/29/2015' '03/30/2015' '01/04/2015' '12/14/2014' '04/04/2015'\n",
            " '03/02/2015' '07/02/2025' '02/12/2022' '12/20/2014' '01/02/2015'\n",
            " '05/04/2015' '12/28/2014' '12/15/2014' '02/16/2015' '02/17/2015'\n",
            " '06/04/2015' '09/02/2015' '10/02/2015' '07/04/2015' '12/16/1991'\n",
            " '08/04/2015' '12/29/2014' '11/04/2015' '02/12/2030' '03/23/2015'\n",
            " '04/13/2015' '04/15/2015' '04/02/1950' '04/25/2015' '05/02/2006'\n",
            " '11/03/2006' '03/24/2007' '07/06/2011' '11/05/2011' '03/13/2012'\n",
            " '12/02/2013' '05/18/2009' '03/04/2013' '06/03/2011' '05/03/2013'\n",
            " '01/12/2007' '02/27/2013' '04/24/2013' '04/29/2013' '05/12/2009'\n",
            " '12/16/2009' '12/12/2022' '12/12/2023' '12/12/2099' '12/27/2010'\n",
            " '08/02/2011' '02/13/2011' '02/21/2011' '08/03/2011' '03/05/2015'\n",
            " '04/05/2015' '05/05/2015' '03/13/2011' '04/02/2006' '06/06/2015'\n",
            " '07/06/2015' '08/06/1980' '08/06/2015'] \n",
            "\n",
            "Conteo de ocurrencias por valor: 12/12/2010    44\n",
            "06/12/2014    44\n",
            "12/14/2010    36\n",
            "12/14/2011    36\n",
            "12/13/2011    35\n",
            "              ..\n",
            "01/03/2010     1\n",
            "12/16/1991     1\n",
            "02/21/2011     1\n",
            "02/05/2011     1\n",
            "02/14/1998     1\n",
            "Name: fecha_ingreso_alumno, Length: 443, dtype: int64\n"
          ],
          "name": "stdout"
        }
      ]
    },
    {
      "cell_type": "code",
      "metadata": {
        "id": "jVeYRVVSQX2j",
        "colab_type": "code",
        "colab": {
          "base_uri": "https://localhost:8080/",
          "height": 176
        },
        "outputId": "c072f97a-3e00-4023-cd59-9f3ff2f15a22"
      },
      "source": [
        "#Vista de los valores únicos en los atributos de tipo string\n",
        "\n",
        "print(f\"Valores presentes en el atributo: {academicos['regular'].unique()} \\n\")\n",
        "\n",
        "#Vista de la cantidad de ocurrencias de cada valor\n",
        "\n",
        "print(f\"Conteo de ocurrencias por valor: {academicos['regular'].value_counts()}\")"
      ],
      "execution_count": null,
      "outputs": [
        {
          "output_type": "stream",
          "text": [
            "Valores presentes en el atributo: ['S' 'N' nan 'X' 'T' 'SI' 'D'] \n",
            "\n",
            "Conteo de ocurrencias por valor: S     1908\n",
            "N      388\n",
            "D        4\n",
            "X        3\n",
            "T        1\n",
            "SI       1\n",
            "Name: regular, dtype: int64\n"
          ],
          "name": "stdout"
        }
      ]
    },
    {
      "cell_type": "markdown",
      "metadata": {
        "id": "oxp84vNbQX2m",
        "colab_type": "text"
      },
      "source": [
        "**TO DO:** Completar para el resto de los atributos del mismo tipo\n",
        "\n",
        "---"
      ]
    },
    {
      "cell_type": "markdown",
      "metadata": {
        "id": "HH2eZSCFQX2n",
        "colab_type": "text"
      },
      "source": [
        "**Tipos numéricos**"
      ]
    },
    {
      "cell_type": "code",
      "metadata": {
        "id": "bBs1SXe4QX2n",
        "colab_type": "code",
        "colab": {
          "base_uri": "https://localhost:8080/",
          "height": 176
        },
        "outputId": "0d057802-2dce-492c-c1ff-81309cfe76dd"
      },
      "source": [
        "#Vista de los valores únicos en los atributos de tipo numérico y obtención de estadísticas\n",
        "\n",
        "print(f\"Valores presentes en el atributo: {academicos['cnt_readmisiones'].unique()} \\n\")\n",
        "\n",
        "#Vista de estadísticas del atributo\n",
        "\n",
        "print(f\"Estadísticas del atributo: \\n{academicos['cnt_readmisiones'].agg(['min', 'max', 'mean', 'std', 'median'])}\")"
      ],
      "execution_count": null,
      "outputs": [
        {
          "output_type": "stream",
          "text": [
            "Valores presentes en el atributo: [ 0. nan  1.  2.  9. -2.  5. -1.] \n",
            "\n",
            "Estadísticas del atributo: \n",
            "min      -2.000000\n",
            "max       9.000000\n",
            "mean      0.028200\n",
            "std       0.307012\n",
            "median    0.000000\n",
            "Name: cnt_readmisiones, dtype: float64\n"
          ],
          "name": "stdout"
        }
      ]
    },
    {
      "cell_type": "code",
      "metadata": {
        "id": "SND9S2N3QX2r",
        "colab_type": "code",
        "colab": {
          "base_uri": "https://localhost:8080/",
          "height": 194
        },
        "outputId": "33102a3d-2ba2-4187-8184-33b35f78ea81"
      },
      "source": [
        "#Vista de los valores únicos en los atributos de tipo numérico y obtención de estadísticas\n",
        "\n",
        "print(f\"Valores presentes en el atributo: {academicos['anio_plan_estudios'].unique()} \\n\")\n",
        "\n",
        "#Vista de estadísticas del atributo\n",
        "\n",
        "print(f\"Estadísticas del atributo: \\n{academicos['anio_plan_estudios'].agg(['min', 'max', 'mean', 'std', 'median'])}\")"
      ],
      "execution_count": null,
      "outputs": [
        {
          "output_type": "stream",
          "text": [
            "Valores presentes en el atributo: [2005. 2008. 2009. 2000. 2007. 2004. 2012. 2011.   nan 2010. 2006. 2003.\n",
            " 1980. 2014. 1999. 2099.] \n",
            "\n",
            "Estadísticas del atributo: \n",
            "min       1980.000000\n",
            "max       2099.000000\n",
            "mean      2006.703896\n",
            "std          4.487675\n",
            "median    2007.000000\n",
            "Name: anio_plan_estudios, dtype: float64\n"
          ],
          "name": "stdout"
        }
      ]
    },
    {
      "cell_type": "markdown",
      "metadata": {
        "id": "44K1RpqkQX2t",
        "colab_type": "text"
      },
      "source": [
        "**TO DO:** Completar para el resto de los atributos del mismo tipo\n",
        "\n",
        "---"
      ]
    },
    {
      "cell_type": "markdown",
      "metadata": {
        "id": "nfi24OKOQX2u",
        "colab_type": "text"
      },
      "source": [
        "### Registro del análisis\n",
        "\n",
        "1. Evaluación de valores nulos (filas y columnas)\n",
        "2. Evaluación de formato válido\n",
        "3. Valores ajustados en rangos (ver anexos)\n",
        "4. Claves únicas\n",
        "5. Integridad referencial\n",
        "6. Cumplimiento de reglas en valores"
      ]
    },
    {
      "cell_type": "markdown",
      "metadata": {
        "id": "MbvjcX0yQX2u",
        "colab_type": "text"
      },
      "source": [
        "**(1) Valores nulos por filas**"
      ]
    },
    {
      "cell_type": "code",
      "metadata": {
        "id": "58DTrnRhQX2v",
        "colab_type": "code",
        "colab": {
          "base_uri": "https://localhost:8080/",
          "height": 52
        },
        "outputId": "173a627b-410e-4405-fcda-fd089594522e"
      },
      "source": [
        "cantidad_filas = academicos.shape[0]\n",
        "cantidad_columnas = academicos.shape[1]\n",
        "\n",
        "#Se comienza por obtener la cantidad de filas por atributo en las que existen valores nulos\n",
        "\n",
        "filas_nulas = academicos.isnull().sum().sum()\n",
        "\n",
        "#academicos.isnull().sum()\n",
        "\n",
        "print(f\"Cantidad de filas que tienen valores nulos: {filas_nulas}\")\n",
        "print(f\"Cantidad de filas que tienen valores nulos: {(filas_nulas / cantidad_filas)*100} %\")"
      ],
      "execution_count": null,
      "outputs": [
        {
          "output_type": "stream",
          "text": [
            "Cantidad de filas que tienen valores nulos: 45\n",
            "Cantidad de filas que tienen valores nulos: 1.9430051813471503 %\n"
          ],
          "name": "stdout"
        }
      ]
    },
    {
      "cell_type": "code",
      "metadata": {
        "id": "GowTpPIIQX2y",
        "colab_type": "code",
        "colab": {
          "base_uri": "https://localhost:8080/",
          "height": 52
        },
        "outputId": "79a1639c-86d0-4003-ae6b-6b4d54d0f17b"
      },
      "source": [
        "#Se obtiene la cantidad de valores nulos por fila para calcular el indicador\n",
        "\n",
        "cantidad_columnas = academicos.shape[1]\n",
        "\n",
        "def nulos_x_fila(fila):\n",
        "    nulos = cantidad_columnas - fila.count() #Se calcula la cantidad de valores nulos en la fila\n",
        "    umbral = 0.2 \n",
        "    #Se evalua si se supera el umbral definido\n",
        "    if (nulos > (cantidad_columnas * umbral)):\n",
        "        return 'err'\n",
        "    else:\n",
        "        return 'ok'\n",
        "\n",
        "academicos['completitudF'] = academicos.apply(lambda row: nulos_x_fila(row), axis=1)\n",
        "\n",
        "# Se obtiene la cantidad de errores detectados\n",
        "\n",
        "#academicos['completitudF'].value_counts()\n",
        "\n",
        "# Se visualizan las tuplas con errores\n",
        "\n",
        "academicos[academicos.completitudF == 'err']\n",
        "filas_err = academicos[academicos.completitudF == 'err'].shape[0]\n",
        "\n",
        "print(f\"Cantidad de filas que tienen valores nulos más allá del umbral definido: {filas_err}\")\n",
        "print(f\"Porcentaje de filas que tienen valores nulos más allá del umbral definido: {(filas_err / cantidad_filas)*100} %\")"
      ],
      "execution_count": null,
      "outputs": [
        {
          "output_type": "stream",
          "text": [
            "Cantidad de filas que tienen valores nulos más allá del umbral definido: 5\n",
            "Porcentaje de filas que tienen valores nulos más allá del umbral definido: 0.2158894645941278 %\n"
          ],
          "name": "stdout"
        }
      ]
    },
    {
      "cell_type": "markdown",
      "metadata": {
        "id": "6lYs66t0QX22",
        "colab_type": "text"
      },
      "source": [
        "**(1) Valores nulos por columnas**"
      ]
    },
    {
      "cell_type": "code",
      "metadata": {
        "id": "AHgw4lYEQX22",
        "colab_type": "code",
        "colab": {
          "base_uri": "https://localhost:8080/",
          "height": 212
        },
        "outputId": "bf266823-d07f-4326-f831-92d007d93d47"
      },
      "source": [
        "#Como segundo paso se pasa a obtener la cantidad de nulos por cada columna\n",
        "\n",
        "nulos_x_columna = academicos.isna().sum()\n",
        "\n",
        "print(f\"Cantidad de filas que tienen valores nulos por atributo:\\n{nulos_x_columna}\")"
      ],
      "execution_count": null,
      "outputs": [
        {
          "output_type": "stream",
          "text": [
            "Cantidad de filas que tienen valores nulos por atributo:\n",
            "unidad_academica         0\n",
            "carrera                  2\n",
            "nro_inscripcion          0\n",
            "regular                 11\n",
            "cnt_readmisiones        11\n",
            "calidad                 10\n",
            "anio_plan_estudios       6\n",
            "fecha_ingreso_alumno     5\n",
            "completitudF             0\n",
            "dtype: int64\n"
          ],
          "name": "stdout"
        }
      ]
    },
    {
      "cell_type": "code",
      "metadata": {
        "id": "aNLsEZOjQX25",
        "colab_type": "code",
        "colab": {
          "base_uri": "https://localhost:8080/",
          "height": 127
        },
        "outputId": "9446fcf3-396f-467d-a957-3bbc77e35f72"
      },
      "source": [
        "#Para poder observar el detalle por filas de las columnas con datos nulos\n",
        "\n",
        "academicos[academicos['carrera'].isnull()]"
      ],
      "execution_count": null,
      "outputs": [
        {
          "output_type": "execute_result",
          "data": {
            "text/html": [
              "<div>\n",
              "<style scoped>\n",
              "    .dataframe tbody tr th:only-of-type {\n",
              "        vertical-align: middle;\n",
              "    }\n",
              "\n",
              "    .dataframe tbody tr th {\n",
              "        vertical-align: top;\n",
              "    }\n",
              "\n",
              "    .dataframe thead th {\n",
              "        text-align: right;\n",
              "    }\n",
              "</style>\n",
              "<table border=\"1\" class=\"dataframe\">\n",
              "  <thead>\n",
              "    <tr style=\"text-align: right;\">\n",
              "      <th></th>\n",
              "      <th>unidad_academica</th>\n",
              "      <th>carrera</th>\n",
              "      <th>nro_inscripcion</th>\n",
              "      <th>regular</th>\n",
              "      <th>cnt_readmisiones</th>\n",
              "      <th>calidad</th>\n",
              "      <th>anio_plan_estudios</th>\n",
              "      <th>fecha_ingreso_alumno</th>\n",
              "      <th>completitudF</th>\n",
              "    </tr>\n",
              "  </thead>\n",
              "  <tbody>\n",
              "    <tr>\n",
              "      <th>853</th>\n",
              "      <td>FCEQN</td>\n",
              "      <td>NaN</td>\n",
              "      <td>FCEQN-7254</td>\n",
              "      <td>S</td>\n",
              "      <td>NaN</td>\n",
              "      <td>NaN</td>\n",
              "      <td>2007.0</td>\n",
              "      <td>06/04/2013</td>\n",
              "      <td>err</td>\n",
              "    </tr>\n",
              "    <tr>\n",
              "      <th>854</th>\n",
              "      <td>FCEQN</td>\n",
              "      <td>NaN</td>\n",
              "      <td>FCEQN-6932</td>\n",
              "      <td>S</td>\n",
              "      <td>NaN</td>\n",
              "      <td>NaN</td>\n",
              "      <td>2011.0</td>\n",
              "      <td>12/12/2012</td>\n",
              "      <td>err</td>\n",
              "    </tr>\n",
              "  </tbody>\n",
              "</table>\n",
              "</div>"
            ],
            "text/plain": [
              "    unidad_academica carrera  ... fecha_ingreso_alumno completitudF\n",
              "853            FCEQN     NaN  ...           06/04/2013          err\n",
              "854            FCEQN     NaN  ...           12/12/2012          err\n",
              "\n",
              "[2 rows x 9 columns]"
            ]
          },
          "metadata": {
            "tags": []
          },
          "execution_count": 15
        }
      ]
    },
    {
      "cell_type": "markdown",
      "metadata": {
        "id": "9imzWI7XQX29",
        "colab_type": "text"
      },
      "source": [
        "**(2) Formato válido en atributo nro_inscripcion**"
      ]
    },
    {
      "cell_type": "code",
      "metadata": {
        "id": "I9Hh3aiGQX2-",
        "colab_type": "code",
        "colab": {
          "base_uri": "https://localhost:8080/",
          "height": 52
        },
        "outputId": "ea439110-2400-4022-a04d-e5cb8e7a283a"
      },
      "source": [
        "#Verificar formato válido - atributo:nro_inscripcion -\n",
        "#El formato debería ser FCEQN-#### (el número de matrícula del alumno)\n",
        "#Se puede usar una evaluación de correspondencia con una expresión regular\n",
        "\n",
        "academicos['formatoCorrecto'] = academicos['nro_inscripcion'].astype(str).str.match(\"\\D{5}.\\d{1,4}$\")\n",
        "\n",
        "#A partir de esto se podría verificar a través de una nueva columna auxiliar\n",
        "\n",
        "academicos[academicos.formatoCorrecto == False]\n",
        "\n",
        "# Se filtran las filas con estos valores erróneos\n",
        "\n",
        "conteo = academicos[academicos.formatoCorrecto == False]\n",
        "\n",
        "#Y se cuenta la cantidad de errores de formateo\n",
        "\n",
        "errores_formato = conteo.shape[0]\n",
        "print(f\"Cantidad de filas con errores de formato en atributos: {errores_formato}\")\n",
        "print(f\"Porcentaje de filas con errores de formato en atributos: {(errores_formato / cantidad_filas)*100} %\")"
      ],
      "execution_count": null,
      "outputs": [
        {
          "output_type": "stream",
          "text": [
            "Cantidad de filas con errores de formato en atributos: 71\n",
            "Porcentaje de filas con errores de formato en atributos: 3.065630397236615 %\n"
          ],
          "name": "stdout"
        }
      ]
    },
    {
      "cell_type": "markdown",
      "metadata": {
        "id": "ctorxUTiQX3B",
        "colab_type": "text"
      },
      "source": [
        "**(3) Valores en rangos predefinidos**"
      ]
    },
    {
      "cell_type": "code",
      "metadata": {
        "id": "I81Scz1_QX3C",
        "colab_type": "code",
        "colab": {
          "base_uri": "https://localhost:8080/",
          "height": 176
        },
        "outputId": "a2b5c3af-dc18-46b4-cdb8-d81c088aefce"
      },
      "source": [
        "#Verificar que los valores de cada atributo se encuentren dentro de los listados anexos\n",
        "\n",
        "#Atributo: regular\n",
        "\n",
        "valores = pd.value_counts(academicos['regular']) #Conteo de ocurrencias por valor (not-null)\n",
        "print(valores)\n",
        "\n",
        "academicos[academicos.regular.isna()] #Para visualizar las tuplas con valores nulos\n",
        "cantidad_nulos = len(academicos.regular) - academicos.regular.count() #Conteo de nulos\n",
        "\n",
        "cantidad_nulos #Impresión de la cantidad de nulos\n",
        "\n",
        "valores_validos = ['S', 'N'] #Se definen los valores validos según el anexo\n",
        "\n",
        "#Se identifica y cuenta a los valores que no cumplen esa condición (incluye los nulos)\n",
        "\n",
        "resultado = academicos[academicos.regular.isin(valores_validos) == False] \n",
        "resultado\n",
        "\n",
        "regular_valores_fuera_rango = resultado.shape[0]\n",
        "print(f\"Cantidad de filas con valores fuera de rango en atributo regular: {regular_valores_fuera_rango}\")\n",
        "print(f\"Porcentaje de filas con errores de formato en atributos: {(regular_valores_fuera_rango / cantidad_filas)*100} %\")"
      ],
      "execution_count": null,
      "outputs": [
        {
          "output_type": "stream",
          "text": [
            "S     1908\n",
            "N      388\n",
            "D        4\n",
            "X        3\n",
            "T        1\n",
            "SI       1\n",
            "Name: regular, dtype: int64\n",
            "Cantidad de filas con valores fuera de rango en atributo regular: 20\n",
            "Porcentaje de filas con errores de formato en atributos: 0.8635578583765112 %\n"
          ],
          "name": "stdout"
        }
      ]
    },
    {
      "cell_type": "code",
      "metadata": {
        "id": "V2zowuTjQX3E",
        "colab_type": "code",
        "colab": {
          "base_uri": "https://localhost:8080/",
          "height": 52
        },
        "outputId": "7c07f859-442f-445a-db05-8fa401195be4"
      },
      "source": [
        "#Verificar que los valores de cada atributo se encuentren dentro de los listados anexos\n",
        "\n",
        "#Atributo: carrera\n",
        "\n",
        "valores = pd.value_counts(academicos['carrera']) #Conteo de ocurrencias por valor (not-null)\n",
        "#print(valores)\n",
        "\n",
        "academicos[academicos.carrera.isna()] #Para visualizar las tuplas con valores nulos\n",
        "cantidad_nulos = len(academicos.carrera) - academicos.carrera.count() #Conteo de nulos\n",
        "\n",
        "valores_validos = ['147',\n",
        "'172',\n",
        "'104',\n",
        "'102',\n",
        "'101',\n",
        "'106',\n",
        "'143',\n",
        "'SAC',\n",
        "'170',\n",
        "'114',\n",
        "'111',\n",
        "'105',\n",
        "'108'] #Se definen los valores validos según el anexo\n",
        "\n",
        "#cantidad_nulos #Impresión de la cantidad de nulos\n",
        "\n",
        "#Se identifica y cuenta a los valores que no cumplen esa condición (incluye los nulos)\n",
        "\n",
        "resultado = academicos[academicos.carrera.isin(valores_validos) == False] \n",
        "resultado\n",
        "\n",
        "carrera_valores_fuera_rango = resultado.shape[0]\n",
        "print(f\"Cantidad de filas con valores fuera de rango en atributo carrera: {carrera_valores_fuera_rango}\")\n",
        "print(f\"Porcentaje de filas con errores de formato en atributos: {(carrera_valores_fuera_rango / cantidad_filas)*100} %\")"
      ],
      "execution_count": null,
      "outputs": [
        {
          "output_type": "stream",
          "text": [
            "Cantidad de filas con valores fuera de rango en atributo carrera: 8\n",
            "Porcentaje de filas con errores de formato en atributos: 0.3454231433506045 %\n"
          ],
          "name": "stdout"
        }
      ]
    },
    {
      "cell_type": "code",
      "metadata": {
        "id": "3-1Y4SdnQX3H",
        "colab_type": "code",
        "colab": {
          "base_uri": "https://localhost:8080/",
          "height": 52
        },
        "outputId": "dde4f205-0410-4643-c944-8e198c90fda3"
      },
      "source": [
        "#Atributo: cnt_readmisiones\n",
        "valores = pd.value_counts(academicos['cnt_readmisiones']) #Conteo de ocurrencias por valor (not-null)\n",
        "#print(valores)\n",
        "\n",
        "academicos[academicos.cnt_readmisiones.isna()] #Para visualizar las tuplas con valores nulos\n",
        "cantidad_nulos = len(academicos.cnt_readmisiones) - academicos.cnt_readmisiones.count() #Conteo de nulos\n",
        "\n",
        "#cantidad_nulos #Impresión de la cantidad de nulos\n",
        "\n",
        "#Se identifica y cuenta a los valores que no cumplen las condiciones vistas\n",
        "menores = academicos[academicos.cnt_readmisiones < 0] \n",
        "menor_cero = menores.shape[0]\n",
        "\n",
        "mayores = academicos[academicos.cnt_readmisiones > 5] \n",
        "mayor_cinco = mayores.shape[0]\n",
        "\n",
        "readmisiones_valores_fuera_rango = cantidad_nulos + menor_cero + mayor_cinco\n",
        "print(f\"Cantidad de filas con valores fuera de rango en atributo cnt_readmisiones: {readmisiones_valores_fuera_rango}\")\n",
        "print(f\"Porcentaje de filas con errores de formato en atributos: {(readmisiones_valores_fuera_rango / cantidad_filas)*100} %\")\n",
        "#menores\n",
        "#mayores"
      ],
      "execution_count": null,
      "outputs": [
        {
          "output_type": "stream",
          "text": [
            "Cantidad de filas con valores fuera de rango en atributo cnt_readmisiones: 14\n",
            "Porcentaje de filas con errores de formato en atributos: 0.6044905008635579 %\n"
          ],
          "name": "stdout"
        }
      ]
    },
    {
      "cell_type": "code",
      "metadata": {
        "id": "MX8UKwBOQX3K",
        "colab_type": "code",
        "colab": {
          "base_uri": "https://localhost:8080/",
          "height": 52
        },
        "outputId": "0ce0fcb0-f7f6-4197-92e6-516047147b85"
      },
      "source": [
        "#Atributo: anio_plan_estudios\n",
        "valores = pd.value_counts(academicos['anio_plan_estudios']) #Conteo de ocurrencias por valor (not-null)\n",
        "\n",
        "academicos[academicos.anio_plan_estudios.isna()] #Para visualizar las tuplas con valores nulos\n",
        "cantidad_nulos = len(academicos.anio_plan_estudios) - academicos.anio_plan_estudios.count() #Conteo de nulos\n",
        "\n",
        "#cantidad_nulos #Impresión de la cantidad de nulos\n",
        "\n",
        "#Se identifica y cuenta a los valores que no cumplen las condiciones vistas\n",
        "menores = academicos[academicos.anio_plan_estudios < 2000] \n",
        "menor_2k = menores.shape[0]\n",
        "#menor_2k\n",
        "\n",
        "mayores = academicos[academicos.anio_plan_estudios > 2020] \n",
        "mayor_hoy = mayores.shape[0]\n",
        "#mayor_hoy\n",
        "\n",
        "plan_valores_fuera_rango = cantidad_nulos + menor_2k + mayor_hoy\n",
        "print(f\"Cantidad de filas con valores fuera de rango en atributo anio_plan_estudios: {plan_valores_fuera_rango}\")\n",
        "print(f\"Porcentaje de filas con errores de formato en atributos: {(plan_valores_fuera_rango / cantidad_filas)*100} %\")\n",
        "\n",
        "\n",
        "#menores \n",
        "#mayores"
      ],
      "execution_count": null,
      "outputs": [
        {
          "output_type": "stream",
          "text": [
            "Cantidad de filas con valores fuera de rango en atributo anio_plan_estudios: 9\n",
            "Porcentaje de filas con errores de formato en atributos: 0.38860103626943004 %\n"
          ],
          "name": "stdout"
        }
      ]
    },
    {
      "cell_type": "code",
      "metadata": {
        "id": "j4d3gjpq0ndq",
        "colab_type": "code",
        "colab": {
          "base_uri": "https://localhost:8080/",
          "height": 176
        },
        "outputId": "d827a997-d4f5-4d31-ed84-50ee956252d3"
      },
      "source": [
        "#Atributo: calidad\n",
        "\n",
        "valores = pd.value_counts(academicos['calidad']) #Conteo de ocurrencias por valor (not-null)\n",
        "print(valores)\n",
        "\n",
        "#academicos[academicos.calidad.isna()] #Para visualizar las tuplas con valores nulos\n",
        "cantidad_nulos = len(academicos.calidad) - academicos.calidad.count() #Conteo de nulos\n",
        "\n",
        "cantidad_nulos #Impresión de la cantidad de nulos\n",
        "\n",
        "valores_validos = ['A', 'P'] #Se definen los valores validos según el anexo\n",
        "\n",
        "#Se identifica y cuenta a los valores que no cumplen esa condición (incluye los nulos)\n",
        "\n",
        "resultado = academicos[academicos.calidad.isin(valores_validos) == False] \n",
        "#resultado\n",
        "\n",
        "calidad_valores_fuera_rango = resultado.shape[0]\n",
        "print(f\"Cantidad de filas con valores fuera de rango en atributo calidad: {calidad_valores_fuera_rango}\")\n",
        "print(f\"Porcentaje de filas con errores de formato en atributos: {(calidad_valores_fuera_rango / cantidad_filas)*100} %\")"
      ],
      "execution_count": null,
      "outputs": [
        {
          "output_type": "stream",
          "text": [
            "A    2083\n",
            "P     209\n",
            "E      10\n",
            "N       2\n",
            "X       1\n",
            "G       1\n",
            "Name: calidad, dtype: int64\n",
            "Cantidad de filas con valores fuera de rango en atributo calidad: 24\n",
            "Porcentaje de filas con errores de formato en atributos: 1.0362694300518136 %\n"
          ],
          "name": "stdout"
        }
      ]
    },
    {
      "cell_type": "markdown",
      "metadata": {
        "id": "dNnQh6pwQX3N",
        "colab_type": "text"
      },
      "source": [
        "**(4) Claves únicas**"
      ]
    },
    {
      "cell_type": "code",
      "metadata": {
        "id": "M7sSILQSQX3N",
        "colab_type": "code",
        "colab": {
          "base_uri": "https://localhost:8080/",
          "height": 34
        },
        "outputId": "38a75dcb-6347-4584-a0ef-27dee6385eab"
      },
      "source": [
        "#Para revisar problemas de claves duplicadas\n",
        "\n",
        "#Se obtiene el valor de la cantidad de filas actual\n",
        "\n",
        "cant_antes = len(academicos) \n",
        "cant_antes\n",
        "\n",
        "#Se ordena el dataset según el atributo que se desee evaluar (requerido para el paso siguiente)\n",
        "\n",
        "academicos.sort_values(\"nro_inscripcion\", inplace=True)\n",
        "\n",
        "\n",
        "#Se detectan y eliminan los duplicados en un atributo dejando la última ocurrencia\n",
        "\n",
        "academicos.drop_duplicates(subset =\"nro_inscripcion\", keep = 'last', inplace = True)\n",
        "\n",
        "\n",
        "#Se obtiene el valor posterior a la operación\n",
        "cant_despues = len(academicos)\n",
        "\n",
        "\n",
        "#Se imprimen ambos valores\n",
        "print(f\"Antes del análisis de duplicados: {cant_antes} - Despues del filtrado de duplicados: {cant_despues}\")\n"
      ],
      "execution_count": null,
      "outputs": [
        {
          "output_type": "stream",
          "text": [
            "Antes del análisis de duplicados: 2316 - Despues del filtrado de duplicados: 2316\n"
          ],
          "name": "stdout"
        }
      ]
    },
    {
      "cell_type": "code",
      "metadata": {
        "id": "_z57LtLPQX3R",
        "colab_type": "code",
        "colab": {
          "base_uri": "https://localhost:8080/",
          "height": 197
        },
        "outputId": "7396c704-43af-4584-c6b0-62266d0e767b"
      },
      "source": [
        "#Para verificar integridad referencial se tienen que importar los otros datasets\n",
        "\n",
        "#Lectura del dataset de datos_censales\n",
        "\n",
        "censales = pd.read_csv('https://raw.githubusercontent.com/fernandoverduprimo/pivot2009/master/datos_censales.csv', ',', index_col='Unnamed: 0')\n",
        "censales.head(5)"
      ],
      "execution_count": null,
      "outputs": [
        {
          "output_type": "execute_result",
          "data": {
            "text/html": [
              "<div>\n",
              "<style scoped>\n",
              "    .dataframe tbody tr th:only-of-type {\n",
              "        vertical-align: middle;\n",
              "    }\n",
              "\n",
              "    .dataframe tbody tr th {\n",
              "        vertical-align: top;\n",
              "    }\n",
              "\n",
              "    .dataframe thead th {\n",
              "        text-align: right;\n",
              "    }\n",
              "</style>\n",
              "<table border=\"1\" class=\"dataframe\">\n",
              "  <thead>\n",
              "    <tr style=\"text-align: right;\">\n",
              "      <th></th>\n",
              "      <th>ua</th>\n",
              "      <th>insc</th>\n",
              "      <th>estado_civil</th>\n",
              "      <th>sit_lab_alumno</th>\n",
              "      <th>tipo_res_alumno</th>\n",
              "      <th>sit_lab_padres</th>\n",
              "      <th>estudios_padres</th>\n",
              "    </tr>\n",
              "  </thead>\n",
              "  <tbody>\n",
              "    <tr>\n",
              "      <th>0</th>\n",
              "      <td>FCEQN</td>\n",
              "      <td>FCEQN-3342</td>\n",
              "      <td>1.0</td>\n",
              "      <td>NC</td>\n",
              "      <td>-1.0</td>\n",
              "      <td>-1</td>\n",
              "      <td>-1.0</td>\n",
              "    </tr>\n",
              "    <tr>\n",
              "      <th>1</th>\n",
              "      <td>FCEQN</td>\n",
              "      <td>FCEQN-5396</td>\n",
              "      <td>1.0</td>\n",
              "      <td>NC</td>\n",
              "      <td>-1.0</td>\n",
              "      <td>-1</td>\n",
              "      <td>-1.0</td>\n",
              "    </tr>\n",
              "    <tr>\n",
              "      <th>2</th>\n",
              "      <td>FCEQN</td>\n",
              "      <td>FCEQN-3162</td>\n",
              "      <td>1.0</td>\n",
              "      <td>No</td>\n",
              "      <td>1.0</td>\n",
              "      <td>3</td>\n",
              "      <td>3.0</td>\n",
              "    </tr>\n",
              "    <tr>\n",
              "      <th>3</th>\n",
              "      <td>FCEQN</td>\n",
              "      <td>FCEQN-5739</td>\n",
              "      <td>3.0</td>\n",
              "      <td>NC</td>\n",
              "      <td>-1.0</td>\n",
              "      <td>-1</td>\n",
              "      <td>-1.0</td>\n",
              "    </tr>\n",
              "    <tr>\n",
              "      <th>4</th>\n",
              "      <td>FCEQN</td>\n",
              "      <td>4683</td>\n",
              "      <td>1.0</td>\n",
              "      <td>NC</td>\n",
              "      <td>-1.0</td>\n",
              "      <td>-1</td>\n",
              "      <td>-1.0</td>\n",
              "    </tr>\n",
              "  </tbody>\n",
              "</table>\n",
              "</div>"
            ],
            "text/plain": [
              "      ua        insc  ...  sit_lab_padres estudios_padres\n",
              "0  FCEQN  FCEQN-3342  ...              -1            -1.0\n",
              "1  FCEQN  FCEQN-5396  ...              -1            -1.0\n",
              "2  FCEQN  FCEQN-3162  ...               3             3.0\n",
              "3  FCEQN  FCEQN-5739  ...              -1            -1.0\n",
              "4  FCEQN        4683  ...              -1            -1.0\n",
              "\n",
              "[5 rows x 7 columns]"
            ]
          },
          "metadata": {
            "tags": []
          },
          "execution_count": 26
        }
      ]
    },
    {
      "cell_type": "code",
      "metadata": {
        "id": "7Ot3sxEeQX3V",
        "colab_type": "code",
        "colab": {
          "base_uri": "https://localhost:8080/",
          "height": 197
        },
        "outputId": "895257b1-99e8-4e3c-82a1-3217960a63e5"
      },
      "source": [
        "#Lectura del dataset de datos_persona\n",
        "\n",
        "persona = pd.read_csv('https://raw.githubusercontent.com/fernandoverduprimo/pivot2009/master/datos_personas(2).csv', ';', index_col='Unnamed: 0')\n",
        "persona.head(5)"
      ],
      "execution_count": null,
      "outputs": [
        {
          "output_type": "execute_result",
          "data": {
            "text/html": [
              "<div>\n",
              "<style scoped>\n",
              "    .dataframe tbody tr th:only-of-type {\n",
              "        vertical-align: middle;\n",
              "    }\n",
              "\n",
              "    .dataframe tbody tr th {\n",
              "        vertical-align: top;\n",
              "    }\n",
              "\n",
              "    .dataframe thead th {\n",
              "        text-align: right;\n",
              "    }\n",
              "</style>\n",
              "<table border=\"1\" class=\"dataframe\">\n",
              "  <thead>\n",
              "    <tr style=\"text-align: right;\">\n",
              "      <th></th>\n",
              "      <th>unidad_academica</th>\n",
              "      <th>nro_inscripcion</th>\n",
              "      <th>sexo</th>\n",
              "      <th>nacionalidad</th>\n",
              "      <th>fecha_nac_alumno</th>\n",
              "      <th>fecha_egr_sec</th>\n",
              "    </tr>\n",
              "  </thead>\n",
              "  <tbody>\n",
              "    <tr>\n",
              "      <th>0</th>\n",
              "      <td>FCEQN</td>\n",
              "      <td>FCEQN-877</td>\n",
              "      <td>2</td>\n",
              "      <td>1.0</td>\n",
              "      <td>1987</td>\n",
              "      <td>2004</td>\n",
              "    </tr>\n",
              "    <tr>\n",
              "      <th>1</th>\n",
              "      <td>FCEQN</td>\n",
              "      <td>FCEQN-1294</td>\n",
              "      <td>2</td>\n",
              "      <td>1.0</td>\n",
              "      <td>1987</td>\n",
              "      <td>2017</td>\n",
              "    </tr>\n",
              "    <tr>\n",
              "      <th>2</th>\n",
              "      <td>FCEQN</td>\n",
              "      <td>FCEQN-1351</td>\n",
              "      <td>1</td>\n",
              "      <td>1.0</td>\n",
              "      <td>1987</td>\n",
              "      <td>2011</td>\n",
              "    </tr>\n",
              "    <tr>\n",
              "      <th>3</th>\n",
              "      <td>FCEQN</td>\n",
              "      <td>FCEQN-1363</td>\n",
              "      <td>2</td>\n",
              "      <td>1.0</td>\n",
              "      <td>1987</td>\n",
              "      <td>2011</td>\n",
              "    </tr>\n",
              "    <tr>\n",
              "      <th>4</th>\n",
              "      <td>FCEQN</td>\n",
              "      <td>FCEQN-1367</td>\n",
              "      <td>2</td>\n",
              "      <td>1.0</td>\n",
              "      <td>1987</td>\n",
              "      <td>2011</td>\n",
              "    </tr>\n",
              "  </tbody>\n",
              "</table>\n",
              "</div>"
            ],
            "text/plain": [
              "  unidad_academica nro_inscripcion  ...  fecha_nac_alumno  fecha_egr_sec\n",
              "0            FCEQN       FCEQN-877  ...              1987           2004\n",
              "1            FCEQN      FCEQN-1294  ...              1987           2017\n",
              "2            FCEQN      FCEQN-1351  ...              1987           2011\n",
              "3            FCEQN      FCEQN-1363  ...              1987           2011\n",
              "4            FCEQN      FCEQN-1367  ...              1987           2011\n",
              "\n",
              "[5 rows x 6 columns]"
            ]
          },
          "metadata": {
            "tags": []
          },
          "execution_count": 27
        }
      ]
    },
    {
      "cell_type": "code",
      "metadata": {
        "id": "-Nv5gBn1QX3Y",
        "colab_type": "code",
        "colab": {
          "base_uri": "https://localhost:8080/",
          "height": 34
        },
        "outputId": "8254a8d5-08e8-4c22-8a72-f9f8db29092b"
      },
      "source": [
        "#Antes de probar la integración se debe verificar la unicidad de las claves en los otros datasets \n",
        "#Se obtiene el valor de la cantidad de filas actual\n",
        "\n",
        "cant_antes = len(censales) \n",
        "\n",
        "#Se ordena el dataset según el atributo que se desee evaluar (requerido para el paso siguiente)\n",
        "\n",
        "censales.sort_values(\"insc\", inplace=True)\n",
        "\n",
        "#Se detectan y eliminan los duplicados en un atributo dejando la última ocurrencia\n",
        "\n",
        "censales.drop_duplicates(subset =\"insc\", keep = 'last', inplace = True)\n",
        "\n",
        "#Se obtiene el valor posterior a la operación\n",
        "\n",
        "cant_despues = len(censales)\n",
        "\n",
        "#Se imprimen ambos valores\n",
        "\n",
        "print(f\"Antes del análisis de duplicados: {cant_antes} - Despues del filtrado de duplicados: {cant_despues}\")"
      ],
      "execution_count": null,
      "outputs": [
        {
          "output_type": "stream",
          "text": [
            "Antes del análisis de duplicados: 2316 - Despues del filtrado de duplicados: 2316\n"
          ],
          "name": "stdout"
        }
      ]
    },
    {
      "cell_type": "code",
      "metadata": {
        "id": "911paDoWQX3a",
        "colab_type": "code",
        "colab": {
          "base_uri": "https://localhost:8080/",
          "height": 34
        },
        "outputId": "c4da7b52-d6c6-4e8d-f24c-d92ba047e917"
      },
      "source": [
        "#Antes de probar la integración se debe verificar la unicidad de las claves en los otros datasets \n",
        "#Se obtiene el valor de la cantidad de filas actual\n",
        "\n",
        "cant_antes = len(persona) \n",
        "\n",
        "#Se ordena el dataset según el atributo que se desee evaluar (requerido para el paso siguiente)\n",
        "\n",
        "persona.sort_values(\"nro_inscripcion\", inplace=True)\n",
        "\n",
        "#Se detectan y eliminan los duplicados en un atributo dejando la última ocurrencia\n",
        "\n",
        "persona.drop_duplicates(subset =\"nro_inscripcion\", keep = 'last', inplace = True)\n",
        "\n",
        "#Se obtiene el valor posterior a la operación\n",
        "\n",
        "cant_despues = len(persona)\n",
        "\n",
        "#Se imprimen ambos valores\n",
        "\n",
        "print(f\"Antes del análisis de duplicados: {cant_antes} - Despues del filtrado de duplicados: {cant_despues}\")"
      ],
      "execution_count": null,
      "outputs": [
        {
          "output_type": "stream",
          "text": [
            "Antes del análisis de duplicados: 2316 - Despues del filtrado de duplicados: 2316\n"
          ],
          "name": "stdout"
        }
      ]
    },
    {
      "cell_type": "markdown",
      "metadata": {
        "id": "xeky-vBxQX3c",
        "colab_type": "text"
      },
      "source": [
        "**(5) Integridad referencial**"
      ]
    },
    {
      "cell_type": "code",
      "metadata": {
        "id": "WCpx5go3QX3e",
        "colab_type": "code",
        "colab": {
          "base_uri": "https://localhost:8080/",
          "height": 34
        },
        "outputId": "54f95a33-661e-42dd-bf65-9ebb2fa8b21c"
      },
      "source": [
        "#Las uniones se hacen de a pares - revisar nombres de atributos\n",
        "semi_completo = pd.merge(persona, academicos, on='nro_inscripcion', how='inner')\n",
        "coincidencias_p = semi_completo.shape[0]\n",
        "\n",
        "#Para verificar se puede ejecutar\n",
        "#semi_completo.head(5)\n",
        "\n",
        "print(f\"Datos académicos: {cantidad_filas} - Coincidencias con datos_personas: {coincidencias_p}\")"
      ],
      "execution_count": null,
      "outputs": [
        {
          "output_type": "stream",
          "text": [
            "Datos académicos: 2316 - Coincidencias con datos_personas: 1514\n"
          ],
          "name": "stdout"
        }
      ]
    },
    {
      "cell_type": "code",
      "metadata": {
        "id": "XAktZyq7QX3h",
        "colab_type": "code",
        "colab": {
          "base_uri": "https://localhost:8080/",
          "height": 77
        },
        "outputId": "febc86ff-b14b-4ef2-83a0-04e104daed3d"
      },
      "source": [
        "cambios = {'insc' : 'nro_inscripcion'}\n",
        "censales.rename(columns=cambios, inplace=True)\n",
        "censales.head(1)"
      ],
      "execution_count": null,
      "outputs": [
        {
          "output_type": "execute_result",
          "data": {
            "text/html": [
              "<div>\n",
              "<style scoped>\n",
              "    .dataframe tbody tr th:only-of-type {\n",
              "        vertical-align: middle;\n",
              "    }\n",
              "\n",
              "    .dataframe tbody tr th {\n",
              "        vertical-align: top;\n",
              "    }\n",
              "\n",
              "    .dataframe thead th {\n",
              "        text-align: right;\n",
              "    }\n",
              "</style>\n",
              "<table border=\"1\" class=\"dataframe\">\n",
              "  <thead>\n",
              "    <tr style=\"text-align: right;\">\n",
              "      <th></th>\n",
              "      <th>ua</th>\n",
              "      <th>nro_inscripcion</th>\n",
              "      <th>estado_civil</th>\n",
              "      <th>sit_lab_alumno</th>\n",
              "      <th>tipo_res_alumno</th>\n",
              "      <th>sit_lab_padres</th>\n",
              "      <th>estudios_padres</th>\n",
              "    </tr>\n",
              "  </thead>\n",
              "  <tbody>\n",
              "    <tr>\n",
              "      <th>180</th>\n",
              "      <td>FCEQN</td>\n",
              "      <td>1024</td>\n",
              "      <td>1.0</td>\n",
              "      <td>NC</td>\n",
              "      <td>-1.0</td>\n",
              "      <td>-1</td>\n",
              "      <td>-1.0</td>\n",
              "    </tr>\n",
              "  </tbody>\n",
              "</table>\n",
              "</div>"
            ],
            "text/plain": [
              "        ua nro_inscripcion  ...  sit_lab_padres estudios_padres\n",
              "180  FCEQN            1024  ...              -1            -1.0\n",
              "\n",
              "[1 rows x 7 columns]"
            ]
          },
          "metadata": {
            "tags": []
          },
          "execution_count": 31
        }
      ]
    },
    {
      "cell_type": "code",
      "metadata": {
        "id": "Al5eI0_ZQX3m",
        "colab_type": "code",
        "colab": {
          "base_uri": "https://localhost:8080/",
          "height": 52
        },
        "outputId": "4a896b28-c939-440d-c6d3-7f9c639b6bf7"
      },
      "source": [
        "#Las uniones se hacen de a pares - revisar nombres de atributos\n",
        "completo = pd.merge(censales, semi_completo, on='nro_inscripcion', how='inner')\n",
        "completo.shape[0]\n",
        "\n",
        "#Para verificar se puede ejecutar\n",
        "\n",
        "completo.head(5)\n",
        "\n",
        "#Se obtiene el valor para el indicador\n",
        "\n",
        "cant_problemas = academicos.shape[0] - completo.shape[0]\n",
        "print(f\"Casos de problemas de integridad referencial: {cant_problemas}\")\n",
        "print(f\"Porcentaje de problemas de integridad referencial: {(cant_problemas / cantidad_filas)*100}%\")"
      ],
      "execution_count": null,
      "outputs": [
        {
          "output_type": "stream",
          "text": [
            "Casos de problemas de integridad referencial: 804\n",
            "Porcentaje de problemas de integridad referencial: 34.715025906735754%\n"
          ],
          "name": "stdout"
        }
      ]
    },
    {
      "cell_type": "markdown",
      "metadata": {
        "id": "mCzWuivKQX3o",
        "colab_type": "text"
      },
      "source": [
        "**(6) Reglas en valores**"
      ]
    },
    {
      "cell_type": "code",
      "metadata": {
        "id": "fe7kAL0PQX3p",
        "colab_type": "code",
        "colab": {
          "base_uri": "https://localhost:8080/",
          "height": 70
        },
        "outputId": "cb7b43cd-ad97-44b3-8a55-0b3167a715cf"
      },
      "source": [
        "#Finalmente (última verificación) se revisan cuestiones de aplicación de reglas en los valores del nuevo dataset\n",
        "\n",
        "#Regla: año egreso secundario (nivel medio) no puede ser mayor a año de ingreso a la carrera\n",
        "\n",
        "#Muestra\n",
        "\n",
        "nro_fila = 957\n",
        "completo.iloc[nro_fila]\n",
        "\n",
        "fecha_i = completo.fecha_ingreso_alumno.iloc[nro_fila]\n",
        "fecha_i\n",
        "ingreso = int(fecha_i[-4:])\n",
        "ingreso\n",
        "egreso = int(completo.fecha_egr_sec.iloc[nro_fila])\n",
        "egreso\n",
        "\n",
        "diferencia = ingreso - egreso\n",
        "\n",
        "print(f\" Ingreso a carrera: {ingreso} \\n Egreso nivel medio: {egreso}\\n Diferencia: {diferencia}\")"
      ],
      "execution_count": null,
      "outputs": [
        {
          "output_type": "stream",
          "text": [
            " Ingreso a carrera: 2011 \n",
            " Egreso nivel medio: 2011\n",
            " Diferencia: 0\n"
          ],
          "name": "stdout"
        }
      ]
    },
    {
      "cell_type": "code",
      "metadata": {
        "id": "8mC_QqFdQX3r",
        "colab_type": "code",
        "colab": {
          "base_uri": "https://localhost:8080/",
          "height": 52
        },
        "outputId": "cd9b7820-cad8-4430-fdd6-00ab4bb1b91b"
      },
      "source": [
        "#Se puede definir una función para aplicar los cálculos\n",
        "def reglaAnioSecundario(row):\n",
        "    #fecha_ingreso_alumno es tipo date\n",
        "    anio_ingreso = int(row['fecha_ingreso_alumno'][-4:]) #Se aisla el año\n",
        "    \n",
        "    anio_egreso_secundaria = int(row['fecha_egr_sec'])\n",
        "    diferencia = anio_ingreso - anio_egreso_secundaria\n",
        "    if (diferencia < 0):\n",
        "        #Es un error ya que no podría entrar al nivel superior sin haber finalizado en el nivel medio\n",
        "        return 'err'\n",
        "    else:\n",
        "        return 'ok'\n",
        "\n",
        "#Se verifican los valores presentes\n",
        "\n",
        "#completo.fecha_ingreso_alumno.value_counts()\n",
        "#completo.fecha_egr_sec.value_counts()\n",
        "\n",
        "\n",
        "#Se revisan los valores nulos en cada atributo\n",
        "\n",
        "#completo[completo['fecha_ingreso_alumno'].isnull()]\n",
        "#completo[completo['fecha_egr_sec'].isnull()]\n",
        "\n",
        "#Si fuera necesario completar los nulos, se podría hacer con el valor con más ocurrencias (habiendo otras opciones)\n",
        "completo['fecha_ingreso_alumno'].fillna('12/12/2010',inplace=True)\n",
        "\n",
        "#Se aplica la función para todos los elementos del dataset\n",
        "completo['diferencia_nivel'] = completo.apply(lambda row: reglaAnioSecundario(row), axis=1)\n",
        "\n",
        "#Se verifica la cantidad de elementos\n",
        "aux = completo[completo.diferencia_nivel == 'err']\n",
        "aux\n",
        "\n",
        "cant_problemas = aux.shape[0]\n",
        "print(f\"Casos de problemas de valores por reglas: {cant_problemas}\")\n",
        "print(f\"Porcentaje de filas con errores de formato en atributos: {(cant_problemas / cantidad_filas)*100} %\")\n"
      ],
      "execution_count": null,
      "outputs": [
        {
          "output_type": "stream",
          "text": [
            "Casos de problemas de valores por reglas: 316\n",
            "Porcentaje de filas con errores de formato en atributos: 13.644214162348877 %\n"
          ],
          "name": "stdout"
        }
      ]
    },
    {
      "cell_type": "markdown",
      "metadata": {
        "id": "ERgqmwA0QX3u",
        "colab_type": "text"
      },
      "source": [
        "### Extra: detección básica de outliers"
      ]
    },
    {
      "cell_type": "code",
      "metadata": {
        "id": "30qlyF8gQX3v",
        "colab_type": "code",
        "colab": {
          "base_uri": "https://localhost:8080/",
          "height": 34
        },
        "outputId": "fcf43e93-e812-496d-85f2-02eceb812065"
      },
      "source": [
        "temp_columna = academicos.drop(['unidad_academica','carrera', 'nro_inscripcion', 'regular', 'calidad', 'fecha_ingreso_alumno'], axis=1)\n",
        "\n",
        "#temp_columna\n",
        "\n",
        "#0 = cnt_readmisiones\n",
        "#1 = anio_plan_estudios\n",
        "\n",
        "promedios = np.mean(temp_columna)\n",
        "desvios = np.std(temp_columna)\n",
        "\n",
        "#print(promedios)\n",
        "#print(desvios)\n",
        "\n",
        "limite = desvios * 3 #puede ser 2 también\n",
        "lower, upper = promedios - limite, promedios + limite\n",
        "\n",
        "#print(limite)\n",
        "#print(lower)\n",
        "#print(upper)\n",
        "\n",
        "def marcar_outliers(fila):\n",
        "    valor_readmisiones = fila[0]\n",
        "    valor_anio_plan = fila[1]\n",
        "    if (valor_readmisiones < lower[0]) or (valor_readmisiones > upper[0]):\n",
        "        return True\n",
        "    elif (valor_anio_plan < lower[1]) or (valor_anio_plan > upper[1]):\n",
        "        return True\n",
        "    else:\n",
        "        return False\n",
        "        \n",
        "marcar_outliers(temp_columna.iloc[0])\n",
        "#temp_columna['outliers'] = temp_columna.apply(lambda row: marcar_outliers(row), axis=1)\n",
        "\n",
        "\n",
        "#cant_outliers = temp_columna[temp_columna.outliers == True].shape[0]\n",
        "#print(f\"Casos de tuplas potencialmente outliers: {cant_outliers}\")"
      ],
      "execution_count": null,
      "outputs": [
        {
          "output_type": "execute_result",
          "data": {
            "text/plain": [
              "False"
            ]
          },
          "metadata": {
            "tags": []
          },
          "execution_count": 50
        }
      ]
    },
    {
      "cell_type": "code",
      "metadata": {
        "id": "ngMPsyzy5PJ2",
        "colab_type": "code",
        "colab": {}
      },
      "source": [
        ""
      ],
      "execution_count": null,
      "outputs": []
    }
  ]
}