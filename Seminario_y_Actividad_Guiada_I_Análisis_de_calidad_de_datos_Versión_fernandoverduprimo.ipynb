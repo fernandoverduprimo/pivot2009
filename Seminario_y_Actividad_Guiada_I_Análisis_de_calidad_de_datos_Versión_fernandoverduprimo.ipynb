{
  "nbformat": 4,
  "nbformat_minor": 0,
  "metadata": {
    "kernelspec": {
      "display_name": "Python (kernel-py)",
      "language": "python",
      "name": "kernel-py"
    },
    "language_info": {
      "codemirror_mode": {
        "name": "ipython",
        "version": 3
      },
      "file_extension": ".py",
      "mimetype": "text/x-python",
      "name": "python",
      "nbconvert_exporter": "python",
      "pygments_lexer": "ipython3",
      "version": "3.6.6"
    },
    "colab": {
      "name": "Copia de Seminario y Actividad Guiada I - Análisis de calidad de datos - Versión 08-06-2020.ipynb",
      "provenance": [],
      "include_colab_link": true
    }
  },
  "cells": [
    {
      "cell_type": "markdown",
      "metadata": {
        "id": "view-in-github",
        "colab_type": "text"
      },
      "source": [
        "<a href=\"https://colab.research.google.com/github/fernandoverduprimo/pivot2009/blob/master/Seminario_y_Actividad_Guiada_I_Ana%CC%81lisis_de_calidad_de_datos_Versio%CC%81n_fernandoverduprimo.ipynb\" target=\"_parent\"><img src=\"https://colab.research.google.com/assets/colab-badge.svg\" alt=\"Open In Colab\"/></a>"
      ]
    },
    {
      "cell_type": "markdown",
      "metadata": {
        "id": "krkhgfD2QX2O",
        "colab_type": "text"
      },
      "source": [
        "## Carga de librerías necesarias para el procesamiento del dataset"
      ]
    },
    {
      "cell_type": "code",
      "metadata": {
        "id": "X2BkNbYAQX2P",
        "colab_type": "code",
        "colab": {}
      },
      "source": [
        "#Se importan las librerias a utilizar\n",
        "\n",
        "import pandas as pd\n",
        "import numpy as np\n",
        "import matplotlib.pyplot as plt\n",
        "%matplotlib inline"
      ],
      "execution_count": 0,
      "outputs": []
    },
    {
      "cell_type": "markdown",
      "metadata": {
        "id": "DL345UR_QX2T",
        "colab_type": "text"
      },
      "source": [
        "## Análisisdel dataset\n",
        "\n",
        "### Lectura del archivo de datos"
      ]
    },
    {
      "cell_type": "code",
      "metadata": {
        "id": "7sCdHT_8QX2T",
        "colab_type": "code",
        "outputId": "da77320d-53e3-4e85-bd96-6569795f7f06",
        "colab": {
          "base_uri": "https://localhost:8080/",
          "height": 197
        }
      },
      "source": [
        "#Lectura del dataset\n",
        "\n",
        "academicos = pd.read_csv('https://raw.githubusercontent.com/fernandoverduprimo/pivot2009/master/Seminario-I-Plantilla_v08062020(1).csv', ',', index_col='Unnamed: 0')\n",
        "academicos.head(5)"
      ],
      "execution_count": 0,
      "outputs": [
        {
          "output_type": "execute_result",
          "data": {
            "text/html": [
              "<div>\n",
              "<style scoped>\n",
              "    .dataframe tbody tr th:only-of-type {\n",
              "        vertical-align: middle;\n",
              "    }\n",
              "\n",
              "    .dataframe tbody tr th {\n",
              "        vertical-align: top;\n",
              "    }\n",
              "\n",
              "    .dataframe thead th {\n",
              "        text-align: right;\n",
              "    }\n",
              "</style>\n",
              "<table border=\"1\" class=\"dataframe\">\n",
              "  <thead>\n",
              "    <tr style=\"text-align: right;\">\n",
              "      <th></th>\n",
              "      <th>unidad_academica</th>\n",
              "      <th>carrera</th>\n",
              "      <th>nro_inscripcion</th>\n",
              "      <th>regular</th>\n",
              "      <th>cnt_readmisiones</th>\n",
              "      <th>calidad</th>\n",
              "      <th>anio_plan_estudios</th>\n",
              "      <th>fecha_ingreso_alumno</th>\n",
              "    </tr>\n",
              "  </thead>\n",
              "  <tbody>\n",
              "    <tr>\n",
              "      <th>0</th>\n",
              "      <td>FCEQN</td>\n",
              "      <td>170</td>\n",
              "      <td>FCEQN-3342</td>\n",
              "      <td>S</td>\n",
              "      <td>0.0</td>\n",
              "      <td>A</td>\n",
              "      <td>2005.0</td>\n",
              "      <td>02/28/2011</td>\n",
              "    </tr>\n",
              "    <tr>\n",
              "      <th>1</th>\n",
              "      <td>FCEQN</td>\n",
              "      <td>102</td>\n",
              "      <td>FCEQN-5396</td>\n",
              "      <td>S</td>\n",
              "      <td>0.0</td>\n",
              "      <td>A</td>\n",
              "      <td>2005.0</td>\n",
              "      <td>12/12/2010</td>\n",
              "    </tr>\n",
              "    <tr>\n",
              "      <th>2</th>\n",
              "      <td>FCEQN</td>\n",
              "      <td>143</td>\n",
              "      <td>FCEQN-3162</td>\n",
              "      <td>S</td>\n",
              "      <td>0.0</td>\n",
              "      <td>A</td>\n",
              "      <td>2008.0</td>\n",
              "      <td>07/03/2011</td>\n",
              "    </tr>\n",
              "    <tr>\n",
              "      <th>3</th>\n",
              "      <td>FCEQN</td>\n",
              "      <td>106</td>\n",
              "      <td>FCEQN-5739</td>\n",
              "      <td>S</td>\n",
              "      <td>0.0</td>\n",
              "      <td>A</td>\n",
              "      <td>2008.0</td>\n",
              "      <td>12/03/2011</td>\n",
              "    </tr>\n",
              "    <tr>\n",
              "      <th>4</th>\n",
              "      <td>FCEQN</td>\n",
              "      <td>172</td>\n",
              "      <td>4683</td>\n",
              "      <td>S</td>\n",
              "      <td>0.0</td>\n",
              "      <td>A</td>\n",
              "      <td>2005.0</td>\n",
              "      <td>03/15/2011</td>\n",
              "    </tr>\n",
              "  </tbody>\n",
              "</table>\n",
              "</div>"
            ],
            "text/plain": [
              "  unidad_academica carrera  ... anio_plan_estudios fecha_ingreso_alumno\n",
              "0            FCEQN     170  ...             2005.0           02/28/2011\n",
              "1            FCEQN     102  ...             2005.0           12/12/2010\n",
              "2            FCEQN     143  ...             2008.0           07/03/2011\n",
              "3            FCEQN     106  ...             2008.0           12/03/2011\n",
              "4            FCEQN     172  ...             2005.0           03/15/2011\n",
              "\n",
              "[5 rows x 8 columns]"
            ]
          },
          "metadata": {
            "tags": []
          },
          "execution_count": 2
        }
      ]
    },
    {
      "cell_type": "markdown",
      "metadata": {
        "id": "Zqnam9D9QX2W",
        "colab_type": "text"
      },
      "source": [
        "### Registro de meta-datos del dataset\n",
        "\n",
        "Se van a registrar:\n",
        "* Los tipos de datos por atributo\n",
        "* El rango de valores que presenta\n",
        "* Algunas características de los valores"
      ]
    },
    {
      "cell_type": "markdown",
      "metadata": {
        "id": "PHAAPqxJQX2X",
        "colab_type": "text"
      },
      "source": [
        "#### Se usa el método .info() para obtener datos crudos sobre los atributos del dataset y su contenido"
      ]
    },
    {
      "cell_type": "code",
      "metadata": {
        "id": "thvX9Hk-QX2X",
        "colab_type": "code",
        "outputId": "6ea1f5a6-fa9c-4a3a-e50c-4e92517f316a",
        "colab": {
          "base_uri": "https://localhost:8080/",
          "height": 336
        }
      },
      "source": [
        "#Vista de los tipos de datos y datos básicos\n",
        "\n",
        "academicos.info()\n",
        "\n",
        "print(\"-------------------------------------\")\n",
        "print(f\"Cantidad de filas: {academicos.shape[0]}\")\n",
        "print(f\"Cantidad de columnas: {academicos.shape[1]}\")"
      ],
      "execution_count": 0,
      "outputs": [
        {
          "output_type": "stream",
          "text": [
            "<class 'pandas.core.frame.DataFrame'>\n",
            "Int64Index: 2316 entries, 0 to 2315\n",
            "Data columns (total 8 columns):\n",
            " #   Column                Non-Null Count  Dtype  \n",
            "---  ------                --------------  -----  \n",
            " 0   unidad_academica      2316 non-null   object \n",
            " 1   carrera               2314 non-null   object \n",
            " 2   nro_inscripcion       2316 non-null   object \n",
            " 3   regular               2305 non-null   object \n",
            " 4   cnt_readmisiones      2305 non-null   float64\n",
            " 5   calidad               2306 non-null   object \n",
            " 6   anio_plan_estudios    2310 non-null   float64\n",
            " 7   fecha_ingreso_alumno  2311 non-null   object \n",
            "dtypes: float64(2), object(6)\n",
            "memory usage: 162.8+ KB\n",
            "-------------------------------------\n",
            "Cantidad de filas: 2316\n",
            "Cantidad de columnas: 8\n"
          ],
          "name": "stdout"
        }
      ]
    },
    {
      "cell_type": "markdown",
      "metadata": {
        "id": "nbn8_sypQX2b",
        "colab_type": "text"
      },
      "source": [
        "#### Para conocer los valores únicos por atributo y su distribución se usan los métodos .unique() y .value_counts()\n",
        "\n",
        "**.unique()**: lista las ocurrencias de valores únicos en el atributo  \n",
        "**.value_counts()**: por cada valor del atributo muestra la cantidad de filas que registran tal valor"
      ]
    },
    {
      "cell_type": "markdown",
      "metadata": {
        "id": "KGgzzhoBQX2c",
        "colab_type": "text"
      },
      "source": [
        "**Tipos nominales (string)**"
      ]
    },
    {
      "cell_type": "code",
      "metadata": {
        "id": "sq_Pym30QX2c",
        "colab_type": "code",
        "outputId": "7cb649b8-8620-49cc-bba8-1c837a3659c7",
        "colab": {
          "base_uri": "https://localhost:8080/",
          "height": 87
        }
      },
      "source": [
        "#Vista de los valores únicos en los atributos de tipo string\n",
        "\n",
        "print(f\"Valores presentes en el atributo: {academicos['unidad_academica'].unique()} \\n\")\n",
        "\n",
        "#Vista de la cantidad de ocurrencias de cada valor\n",
        "\n",
        "print(f\"Conteo de ocurrencias por valor: {academicos['unidad_academica'].value_counts()}\")"
      ],
      "execution_count": 0,
      "outputs": [
        {
          "output_type": "stream",
          "text": [
            "Valores presentes en el atributo: ['FCEQN'] \n",
            "\n",
            "Conteo de ocurrencias por valor: FCEQN    2316\n",
            "Name: unidad_academica, dtype: int64\n"
          ],
          "name": "stdout"
        }
      ]
    },
    {
      "cell_type": "code",
      "metadata": {
        "id": "NGBxjpxpQX2g",
        "colab_type": "code",
        "outputId": "bc998211-84e9-4624-99ee-d538039fd69d",
        "colab": {
          "base_uri": "https://localhost:8080/",
          "height": 390
        }
      },
      "source": [
        "#Vista de los valores únicos en los atributos de tipo string\n",
        "\n",
        "print(f\"Valores presentes en el atributo: {academicos['carrera'].unique()} \\n\")\n",
        "\n",
        "#Vista de la cantidad de ocurrencias de cada valor\n",
        "\n",
        "print(f\"Conteo de ocurrencias por valor: {academicos['carrera'].value_counts()}\")"
      ],
      "execution_count": 0,
      "outputs": [
        {
          "output_type": "stream",
          "text": [
            "Valores presentes en el atributo: ['170' '102' '143' '106' '172' 'SAC' '114' '147' '101' '104' '103' '105'\n",
            " nan '601' '314' '600' '108' '111'] \n",
            "\n",
            "Conteo de ocurrencias por valor: 147    412\n",
            "172    404\n",
            "104    332\n",
            "102    328\n",
            "101    251\n",
            "106    180\n",
            "143    128\n",
            "SAC    107\n",
            "170     86\n",
            "114     29\n",
            "111     27\n",
            "105     18\n",
            "108      6\n",
            "103      3\n",
            "600      1\n",
            "601      1\n",
            "314      1\n",
            "Name: carrera, dtype: int64\n"
          ],
          "name": "stdout"
        }
      ]
    },
    {
      "cell_type": "code",
      "metadata": {
        "id": "jVeYRVVSQX2j",
        "colab_type": "code",
        "outputId": "c072f97a-3e00-4023-cd59-9f3ff2f15a22",
        "colab": {
          "base_uri": "https://localhost:8080/",
          "height": 176
        }
      },
      "source": [
        "#Vista de los valores únicos en los atributos de tipo string\n",
        "\n",
        "print(f\"Valores presentes en el atributo: {academicos['regular'].unique()} \\n\")\n",
        "\n",
        "#Vista de la cantidad de ocurrencias de cada valor\n",
        "\n",
        "print(f\"Conteo de ocurrencias por valor: {academicos['regular'].value_counts()}\")"
      ],
      "execution_count": 0,
      "outputs": [
        {
          "output_type": "stream",
          "text": [
            "Valores presentes en el atributo: ['S' 'N' nan 'X' 'T' 'SI' 'D'] \n",
            "\n",
            "Conteo de ocurrencias por valor: S     1908\n",
            "N      388\n",
            "D        4\n",
            "X        3\n",
            "T        1\n",
            "SI       1\n",
            "Name: regular, dtype: int64\n"
          ],
          "name": "stdout"
        }
      ]
    },
    {
      "cell_type": "markdown",
      "metadata": {
        "id": "oxp84vNbQX2m",
        "colab_type": "text"
      },
      "source": [
        "**TO DO:** Completar para el resto de los atributos del mismo tipo\n",
        "\n",
        "---"
      ]
    },
    {
      "cell_type": "markdown",
      "metadata": {
        "id": "HH2eZSCFQX2n",
        "colab_type": "text"
      },
      "source": [
        "**Tipos numéricos**"
      ]
    },
    {
      "cell_type": "code",
      "metadata": {
        "id": "bBs1SXe4QX2n",
        "colab_type": "code",
        "outputId": "67714281-3857-4072-c5a9-86307e16de6e",
        "colab": {
          "base_uri": "https://localhost:8080/",
          "height": 176
        }
      },
      "source": [
        "#Vista de los valores únicos en los atributos de tipo numérico y obtención de estadísticas\n",
        "\n",
        "print(f\"Valores presentes en el atributo: {academicos['cnt_readmisiones'].unique()} \\n\")\n",
        "\n",
        "#Vista de estadísticas del atributo\n",
        "\n",
        "print(f\"Estadísticas del atributo: \\n{academicos['cnt_readmisiones'].agg(['min', 'max', 'mean', 'std', 'median'])}\")"
      ],
      "execution_count": 0,
      "outputs": [
        {
          "output_type": "stream",
          "text": [
            "Valores presentes en el atributo: [ 0. nan  1.  2.  9. -2.  5. -1.] \n",
            "\n",
            "Estadísticas del atributo: \n",
            "min      -2.000000\n",
            "max       9.000000\n",
            "mean      0.028200\n",
            "std       0.307012\n",
            "median    0.000000\n",
            "Name: cnt_readmisiones, dtype: float64\n"
          ],
          "name": "stdout"
        }
      ]
    },
    {
      "cell_type": "code",
      "metadata": {
        "id": "SND9S2N3QX2r",
        "colab_type": "code",
        "outputId": "f53ba19d-66d5-4dd1-e2cc-b201c6bb3977",
        "colab": {
          "base_uri": "https://localhost:8080/",
          "height": 194
        }
      },
      "source": [
        "#Vista de los valores únicos en los atributos de tipo numérico y obtención de estadísticas\n",
        "\n",
        "print(f\"Valores presentes en el atributo: {academicos['anio_plan_estudios'].unique()} \\n\")\n",
        "\n",
        "#Vista de estadísticas del atributo\n",
        "\n",
        "print(f\"Estadísticas del atributo: \\n{academicos['anio_plan_estudios'].agg(['min', 'max', 'mean', 'std', 'median'])}\")"
      ],
      "execution_count": 0,
      "outputs": [
        {
          "output_type": "stream",
          "text": [
            "Valores presentes en el atributo: [2005. 2008. 2009. 2000. 2007. 2004. 2012. 2011.   nan 2010. 2006. 2003.\n",
            " 1980. 2014. 1999. 2099.] \n",
            "\n",
            "Estadísticas del atributo: \n",
            "min       1980.000000\n",
            "max       2099.000000\n",
            "mean      2006.703896\n",
            "std          4.487675\n",
            "median    2007.000000\n",
            "Name: anio_plan_estudios, dtype: float64\n"
          ],
          "name": "stdout"
        }
      ]
    },
    {
      "cell_type": "markdown",
      "metadata": {
        "id": "44K1RpqkQX2t",
        "colab_type": "text"
      },
      "source": [
        "**TO DO:** Completar para el resto de los atributos del mismo tipo\n",
        "\n",
        "---"
      ]
    },
    {
      "cell_type": "markdown",
      "metadata": {
        "id": "nfi24OKOQX2u",
        "colab_type": "text"
      },
      "source": [
        "### Registro del análisis\n",
        "\n",
        "1. Evaluación de valores nulos (filas y columnas)\n",
        "2. Evaluación de formato válido\n",
        "3. Valores ajustados en rangos (ver anexos)\n",
        "4. Claves únicas\n",
        "5. Integridad referencial\n",
        "6. Cumplimiento de reglas en valores"
      ]
    },
    {
      "cell_type": "markdown",
      "metadata": {
        "id": "MbvjcX0yQX2u",
        "colab_type": "text"
      },
      "source": [
        "**(1) Valores nulos por filas**"
      ]
    },
    {
      "cell_type": "code",
      "metadata": {
        "id": "58DTrnRhQX2v",
        "colab_type": "code",
        "outputId": "89dabd9d-0cf6-405e-cfcd-6a21546eb25c",
        "colab": {
          "base_uri": "https://localhost:8080/",
          "height": 52
        }
      },
      "source": [
        "cantidad_filas = academicos.shape[0]\n",
        "cantidad_columnas = academicos.shape[1]\n",
        "\n",
        "#Se comienza por obtener la cantidad de filas por atributo en las que existen valores nulos\n",
        "\n",
        "filas_nulas = academicos.isnull().sum().sum()\n",
        "\n",
        "#academicos.isnull().sum()\n",
        "\n",
        "print(f\"Cantidad de filas que tienen valores nulos: {filas_nulas}\")\n",
        "print(f\"Cantidad de filas que tienen valores nulos: {(filas_nulas / cantidad_filas)*100} %\")"
      ],
      "execution_count": 0,
      "outputs": [
        {
          "output_type": "stream",
          "text": [
            "Cantidad de filas que tienen valores nulos: 45\n",
            "Cantidad de filas que tienen valores nulos: 1.9430051813471503 %\n"
          ],
          "name": "stdout"
        }
      ]
    },
    {
      "cell_type": "code",
      "metadata": {
        "id": "GowTpPIIQX2y",
        "colab_type": "code",
        "outputId": "1cc47364-1c6f-4620-c812-165e3ea69a21",
        "colab": {
          "base_uri": "https://localhost:8080/",
          "height": 52
        }
      },
      "source": [
        "#Se obtiene la cantidad de valores nulos por fila para calcular el indicador\n",
        "\n",
        "cantidad_columnas = academicos.shape[1]\n",
        "\n",
        "def nulos_x_fila(fila):\n",
        "    nulos = cantidad_columnas - fila.count() #Se calcula la cantidad de valores nulos en la fila\n",
        "    umbral = 0.2 \n",
        "    #Se evalua si se supera el umbral definido\n",
        "    if (nulos > (cantidad_columnas * umbral)):\n",
        "        return 'err'\n",
        "    else:\n",
        "        return 'ok'\n",
        "\n",
        "academicos['completitudF'] = academicos.apply(lambda row: nulos_x_fila(row), axis=1)\n",
        "\n",
        "# Se obtiene la cantidad de errores detectados\n",
        "\n",
        "#academicos['completitudF'].value_counts()\n",
        "\n",
        "# Se visualizan las tuplas con errores\n",
        "\n",
        "academicos[academicos.completitudF == 'err']\n",
        "filas_err = academicos[academicos.completitudF == 'err'].shape[0]\n",
        "\n",
        "print(f\"Cantidad de filas que tienen valores nulos más allá del umbral definido: {filas_err}\")\n",
        "print(f\"Porcentaje de filas que tienen valores nulos más allá del umbral definido: {(filas_err / cantidad_filas)*100} %\")"
      ],
      "execution_count": 0,
      "outputs": [
        {
          "output_type": "stream",
          "text": [
            "Cantidad de filas que tienen valores nulos más allá del umbral definido: 5\n",
            "Porcentaje de filas que tienen valores nulos más allá del umbral definido: 0.2158894645941278 %\n"
          ],
          "name": "stdout"
        }
      ]
    },
    {
      "cell_type": "markdown",
      "metadata": {
        "id": "6lYs66t0QX22",
        "colab_type": "text"
      },
      "source": [
        "**(1) Valores nulos por columnas**"
      ]
    },
    {
      "cell_type": "code",
      "metadata": {
        "id": "AHgw4lYEQX22",
        "colab_type": "code",
        "outputId": "c911be67-3e03-40f8-c6d5-cf74bca3432c",
        "colab": {
          "base_uri": "https://localhost:8080/",
          "height": 212
        }
      },
      "source": [
        "#Como segundo paso se pasa a obtener la cantidad de nulos por cada columna\n",
        "\n",
        "nulos_x_columna = academicos.isna().sum()\n",
        "\n",
        "print(f\"Cantidad de filas que tienen valores nulos por atributo:\\n{nulos_x_columna}\")"
      ],
      "execution_count": 0,
      "outputs": [
        {
          "output_type": "stream",
          "text": [
            "Cantidad de filas que tienen valores nulos por atributo:\n",
            "unidad_academica         0\n",
            "carrera                  2\n",
            "nro_inscripcion          0\n",
            "regular                 11\n",
            "cnt_readmisiones        11\n",
            "calidad                 10\n",
            "anio_plan_estudios       6\n",
            "fecha_ingreso_alumno     5\n",
            "completitudF             0\n",
            "dtype: int64\n"
          ],
          "name": "stdout"
        }
      ]
    },
    {
      "cell_type": "code",
      "metadata": {
        "id": "aNLsEZOjQX25",
        "colab_type": "code",
        "outputId": "7632b76a-611c-4780-a498-850f30ad83ac",
        "colab": {
          "base_uri": "https://localhost:8080/",
          "height": 107
        }
      },
      "source": [
        "#Para poder observar el detalle por filas de las columnas con datos nulos\n",
        "\n",
        "academicos[academicos['carrera'].isnull()]"
      ],
      "execution_count": 0,
      "outputs": [
        {
          "output_type": "execute_result",
          "data": {
            "text/html": [
              "<div>\n",
              "<style scoped>\n",
              "    .dataframe tbody tr th:only-of-type {\n",
              "        vertical-align: middle;\n",
              "    }\n",
              "\n",
              "    .dataframe tbody tr th {\n",
              "        vertical-align: top;\n",
              "    }\n",
              "\n",
              "    .dataframe thead th {\n",
              "        text-align: right;\n",
              "    }\n",
              "</style>\n",
              "<table border=\"1\" class=\"dataframe\">\n",
              "  <thead>\n",
              "    <tr style=\"text-align: right;\">\n",
              "      <th></th>\n",
              "      <th>unidad_academica</th>\n",
              "      <th>carrera</th>\n",
              "      <th>nro_inscripcion</th>\n",
              "      <th>regular</th>\n",
              "      <th>cnt_readmisiones</th>\n",
              "      <th>calidad</th>\n",
              "      <th>anio_plan_estudios</th>\n",
              "      <th>fecha_ingreso_alumno</th>\n",
              "      <th>completitudF</th>\n",
              "    </tr>\n",
              "  </thead>\n",
              "  <tbody>\n",
              "    <tr>\n",
              "      <th>853</th>\n",
              "      <td>FCEQN</td>\n",
              "      <td>NaN</td>\n",
              "      <td>FCEQN-7254</td>\n",
              "      <td>S</td>\n",
              "      <td>NaN</td>\n",
              "      <td>NaN</td>\n",
              "      <td>2007.0</td>\n",
              "      <td>06/04/2013</td>\n",
              "      <td>err</td>\n",
              "    </tr>\n",
              "    <tr>\n",
              "      <th>854</th>\n",
              "      <td>FCEQN</td>\n",
              "      <td>NaN</td>\n",
              "      <td>FCEQN-6932</td>\n",
              "      <td>S</td>\n",
              "      <td>NaN</td>\n",
              "      <td>NaN</td>\n",
              "      <td>2011.0</td>\n",
              "      <td>12/12/2012</td>\n",
              "      <td>err</td>\n",
              "    </tr>\n",
              "  </tbody>\n",
              "</table>\n",
              "</div>"
            ],
            "text/plain": [
              "    unidad_academica carrera  ... fecha_ingreso_alumno completitudF\n",
              "853            FCEQN     NaN  ...           06/04/2013          err\n",
              "854            FCEQN     NaN  ...           12/12/2012          err\n",
              "\n",
              "[2 rows x 9 columns]"
            ]
          },
          "metadata": {
            "tags": []
          },
          "execution_count": 17
        }
      ]
    },
    {
      "cell_type": "markdown",
      "metadata": {
        "id": "9imzWI7XQX29",
        "colab_type": "text"
      },
      "source": [
        "**(2) Formato válido en atributo nro_inscripcion**"
      ]
    },
    {
      "cell_type": "code",
      "metadata": {
        "id": "I9Hh3aiGQX2-",
        "colab_type": "code",
        "outputId": "99e2f99f-4939-4551-b5da-b6d49677ddf6",
        "colab": {
          "base_uri": "https://localhost:8080/",
          "height": 52
        }
      },
      "source": [
        "#Verificar formato válido - atributo:nro_inscripcion -\n",
        "#El formato debería ser FCEQN-#### (el número de matrícula del alumno)\n",
        "#Se puede usar una evaluación de correspondencia con una expresión regular\n",
        "\n",
        "academicos['formatoCorrecto'] = academicos['nro_inscripcion'].astype(str).str.match(\"\\D{5}.\\d{1,4}$\")\n",
        "\n",
        "#A partir de esto se podría verificar a través de una nueva columna auxiliar\n",
        "\n",
        "academicos[academicos.formatoCorrecto == False]\n",
        "\n",
        "# Se filtran las filas con estos valores erróneos\n",
        "\n",
        "conteo = academicos[academicos.formatoCorrecto == False]\n",
        "\n",
        "#Y se cuenta la cantidad de errores de formateo\n",
        "\n",
        "errores_formato = conteo.shape[0]\n",
        "print(f\"Cantidad de filas con errores de formato en atributos: {errores_formato}\")\n",
        "print(f\"Porcentaje de filas con errores de formato en atributos: {(errores_formato / cantidad_filas)*100} %\")"
      ],
      "execution_count": 0,
      "outputs": [
        {
          "output_type": "stream",
          "text": [
            "Cantidad de filas con errores de formato en atributos: 71\n",
            "Porcentaje de filas con errores de formato en atributos: 3.065630397236615 %\n"
          ],
          "name": "stdout"
        }
      ]
    },
    {
      "cell_type": "markdown",
      "metadata": {
        "id": "ctorxUTiQX3B",
        "colab_type": "text"
      },
      "source": [
        "**(3) Valores en rangos predefinidos**"
      ]
    },
    {
      "cell_type": "code",
      "metadata": {
        "id": "I81Scz1_QX3C",
        "colab_type": "code",
        "outputId": "bafc456a-da98-405b-fe00-4c8e25fa7ac9",
        "colab": {
          "base_uri": "https://localhost:8080/",
          "height": 34
        }
      },
      "source": [
        "#Verificar que los valores de cada atributo se encuentren dentro de los listados anexos\n",
        "\n",
        "#Atributo: regular\n",
        "\n",
        "valores = pd.value_counts(academicos['regular']) #Conteo de ocurrencias por valor (not-null)\n",
        "#print(valores)\n",
        "\n",
        "academicos[academicos.regular.isna()] #Para visualizar las tuplas con valores nulos\n",
        "cantidad_nulos = len(academicos.regular) - academicos.regular.count() #Conteo de nulos\n",
        "\n",
        "cantidad_nulos #Impresión de la cantidad de nulos\n",
        "\n",
        "valores_validos = ['S', 'N'] #Se definen los valores validos según el anexo\n",
        "\n",
        "#Se identifica y cuenta a los valores que no cumplen esa condición (incluye los nulos)\n",
        "\n",
        "resultado = academicos[academicos.regular.isin(valores_validos) == False] \n",
        "resultado\n",
        "\n",
        "regular_valores_fuera_rango = resultado.shape[0]\n",
        "print(f\"Cantidad de filas con valores fuera de rango en atributo regular: {regular_valores_fuera_rango}\")"
      ],
      "execution_count": 0,
      "outputs": [
        {
          "output_type": "stream",
          "text": [
            "Cantidad de filas con valores fuera de rango en atributo regular: 20\n"
          ],
          "name": "stdout"
        }
      ]
    },
    {
      "cell_type": "code",
      "metadata": {
        "id": "V2zowuTjQX3E",
        "colab_type": "code",
        "outputId": "3abc556c-fe79-4217-af6d-9a6ecfb41204",
        "colab": {
          "base_uri": "https://localhost:8080/",
          "height": 34
        }
      },
      "source": [
        "#Verificar que los valores de cada atributo se encuentren dentro de los listados anexos\n",
        "\n",
        "#Atributo: carrera\n",
        "\n",
        "valores = pd.value_counts(academicos['carrera']) #Conteo de ocurrencias por valor (not-null)\n",
        "#print(valores)\n",
        "\n",
        "academicos[academicos.carrera.isna()] #Para visualizar las tuplas con valores nulos\n",
        "cantidad_nulos = len(academicos.carrera) - academicos.carrera.count() #Conteo de nulos\n",
        "\n",
        "valores_validos = ['147',\n",
        "'172',\n",
        "'104',\n",
        "'102',\n",
        "'101',\n",
        "'106',\n",
        "'143',\n",
        "'SAC',\n",
        "'170',\n",
        "'114',\n",
        "'111',\n",
        "'105',\n",
        "'108'] #Se definen los valores validos según el anexo\n",
        "\n",
        "#cantidad_nulos #Impresión de la cantidad de nulos\n",
        "\n",
        "#Se identifica y cuenta a los valores que no cumplen esa condición (incluye los nulos)\n",
        "\n",
        "resultado = academicos[academicos.carrera.isin(valores_validos) == False] \n",
        "resultado\n",
        "\n",
        "carrera_valores_fuera_rango = resultado.shape[0]\n",
        "print(f\"Cantidad de filas con valores fuera de rango en atributo carrera: {carrera_valores_fuera_rango}\")"
      ],
      "execution_count": 0,
      "outputs": [
        {
          "output_type": "stream",
          "text": [
            "Cantidad de filas con valores fuera de rango en atributo carrera: 8\n"
          ],
          "name": "stdout"
        }
      ]
    },
    {
      "cell_type": "code",
      "metadata": {
        "id": "3-1Y4SdnQX3H",
        "colab_type": "code",
        "outputId": "128a161a-f6c8-4e14-a0c8-b73e09567612",
        "colab": {
          "base_uri": "https://localhost:8080/",
          "height": 34
        }
      },
      "source": [
        "#Atributo: cnt_readmisiones\n",
        "valores = pd.value_counts(academicos['cnt_readmisiones']) #Conteo de ocurrencias por valor (not-null)\n",
        "#print(valores)\n",
        "\n",
        "academicos[academicos.cnt_readmisiones.isna()] #Para visualizar las tuplas con valores nulos\n",
        "cantidad_nulos = len(academicos.cnt_readmisiones) - academicos.cnt_readmisiones.count() #Conteo de nulos\n",
        "\n",
        "#cantidad_nulos #Impresión de la cantidad de nulos\n",
        "\n",
        "#Se identifica y cuenta a los valores que no cumplen las condiciones vistas\n",
        "menores = academicos[academicos.cnt_readmisiones < 0] \n",
        "menor_cero = menores.shape[0]\n",
        "\n",
        "mayores = academicos[academicos.cnt_readmisiones > 5] \n",
        "mayor_cinco = mayores.shape[0]\n",
        "\n",
        "readmisiones_valores_fuera_rango = cantidad_nulos + menor_cero + mayor_cinco\n",
        "print(f\"Cantidad de filas con valores fuera de rango en atributo cnt_readmisiones: {readmisiones_valores_fuera_rango}\")\n",
        "\n",
        "#menores\n",
        "#mayores"
      ],
      "execution_count": 0,
      "outputs": [
        {
          "output_type": "stream",
          "text": [
            "Cantidad de filas con valores fuera de rango en atributo cnt_readmisiones: 14\n"
          ],
          "name": "stdout"
        }
      ]
    },
    {
      "cell_type": "code",
      "metadata": {
        "id": "MX8UKwBOQX3K",
        "colab_type": "code",
        "outputId": "b098f216-5df2-42f6-840d-c74f9f6b2eed",
        "colab": {
          "base_uri": "https://localhost:8080/",
          "height": 34
        }
      },
      "source": [
        "#Atributo: anio_plan_estudios\n",
        "valores = pd.value_counts(academicos['anio_plan_estudios']) #Conteo de ocurrencias por valor (not-null)\n",
        "\n",
        "academicos[academicos.anio_plan_estudios.isna()] #Para visualizar las tuplas con valores nulos\n",
        "cantidad_nulos = len(academicos.anio_plan_estudios) - academicos.anio_plan_estudios.count() #Conteo de nulos\n",
        "\n",
        "#cantidad_nulos #Impresión de la cantidad de nulos\n",
        "\n",
        "#Se identifica y cuenta a los valores que no cumplen las condiciones vistas\n",
        "menores = academicos[academicos.anio_plan_estudios < 2000] \n",
        "menor_2k = menores.shape[0]\n",
        "#menor_2k\n",
        "\n",
        "mayores = academicos[academicos.anio_plan_estudios > 2020] \n",
        "mayor_hoy = mayores.shape[0]\n",
        "#mayor_hoy\n",
        "\n",
        "plan_valores_fuera_rango = cantidad_nulos + menor_2k + mayor_hoy\n",
        "print(f\"Cantidad de filas con valores fuera de rango en atributo anio_plan_estudios: {plan_valores_fuera_rango}\")\n",
        "\n",
        "\n",
        "#menores \n",
        "#mayores"
      ],
      "execution_count": 0,
      "outputs": [
        {
          "output_type": "stream",
          "text": [
            "Cantidad de filas con valores fuera de rango en atributo anio_plan_estudios: 9\n"
          ],
          "name": "stdout"
        }
      ]
    },
    {
      "cell_type": "markdown",
      "metadata": {
        "id": "dNnQh6pwQX3N",
        "colab_type": "text"
      },
      "source": [
        "**(4) Claves únicas**"
      ]
    },
    {
      "cell_type": "code",
      "metadata": {
        "id": "M7sSILQSQX3N",
        "colab_type": "code",
        "outputId": "97dbdcdc-8e07-4180-c5b9-5750867cad99",
        "colab": {
          "base_uri": "https://localhost:8080/",
          "height": 34
        }
      },
      "source": [
        "#Para revisar problemas de claves duplicadas\n",
        "\n",
        "#Se obtiene el valor de la cantidad de filas actual\n",
        "\n",
        "cant_antes = len(academicos) \n",
        "cant_antes\n",
        "\n",
        "#Se ordena el dataset según el atributo que se desee evaluar (requerido para el paso siguiente)\n",
        "\n",
        "academicos.sort_values(\"nro_inscripcion\", inplace=True)\n",
        "\n",
        "\n",
        "#Se detectan y eliminan los duplicados en un atributo dejando la última ocurrencia\n",
        "\n",
        "academicos.drop_duplicates(subset =\"nro_inscripcion\", keep = 'last', inplace = True)\n",
        "\n",
        "\n",
        "#Se obtiene el valor posterior a la operación\n",
        "cant_despues = len(academicos)\n",
        "\n",
        "\n",
        "#Se imprimen ambos valores\n",
        "print(f\"Antes del análisis de duplicados: {cant_antes} - Despues del filtrado de duplicados: {cant_despues}\")"
      ],
      "execution_count": 0,
      "outputs": [
        {
          "output_type": "stream",
          "text": [
            "Antes del análisis de duplicados: 2316 - Despues del filtrado de duplicados: 2316\n"
          ],
          "name": "stdout"
        }
      ]
    },
    {
      "cell_type": "code",
      "metadata": {
        "id": "_z57LtLPQX3R",
        "colab_type": "code",
        "outputId": "2adb745f-2002-4c11-e1c0-b3d1514b91f0",
        "colab": {
          "base_uri": "https://localhost:8080/",
          "height": 197
        }
      },
      "source": [
        "#Para verificar integridad referencial se tienen que importar los otros datasets\n",
        "\n",
        "#Lectura del dataset de datos_censales\n",
        "\n",
        "censales = pd.read_csv('https://raw.githubusercontent.com/fernandoverduprimo/pivot2009/master/datos_censales.csv', ',', index_col='Unnamed: 0')\n",
        "censales.head(5)"
      ],
      "execution_count": 0,
      "outputs": [
        {
          "output_type": "execute_result",
          "data": {
            "text/html": [
              "<div>\n",
              "<style scoped>\n",
              "    .dataframe tbody tr th:only-of-type {\n",
              "        vertical-align: middle;\n",
              "    }\n",
              "\n",
              "    .dataframe tbody tr th {\n",
              "        vertical-align: top;\n",
              "    }\n",
              "\n",
              "    .dataframe thead th {\n",
              "        text-align: right;\n",
              "    }\n",
              "</style>\n",
              "<table border=\"1\" class=\"dataframe\">\n",
              "  <thead>\n",
              "    <tr style=\"text-align: right;\">\n",
              "      <th></th>\n",
              "      <th>ua</th>\n",
              "      <th>insc</th>\n",
              "      <th>estado_civil</th>\n",
              "      <th>sit_lab_alumno</th>\n",
              "      <th>tipo_res_alumno</th>\n",
              "      <th>sit_lab_padres</th>\n",
              "      <th>estudios_padres</th>\n",
              "    </tr>\n",
              "  </thead>\n",
              "  <tbody>\n",
              "    <tr>\n",
              "      <th>0</th>\n",
              "      <td>FCEQN</td>\n",
              "      <td>FCEQN-3342</td>\n",
              "      <td>1.0</td>\n",
              "      <td>NC</td>\n",
              "      <td>-1.0</td>\n",
              "      <td>-1</td>\n",
              "      <td>-1.0</td>\n",
              "    </tr>\n",
              "    <tr>\n",
              "      <th>1</th>\n",
              "      <td>FCEQN</td>\n",
              "      <td>FCEQN-5396</td>\n",
              "      <td>1.0</td>\n",
              "      <td>NC</td>\n",
              "      <td>-1.0</td>\n",
              "      <td>-1</td>\n",
              "      <td>-1.0</td>\n",
              "    </tr>\n",
              "    <tr>\n",
              "      <th>2</th>\n",
              "      <td>FCEQN</td>\n",
              "      <td>FCEQN-3162</td>\n",
              "      <td>1.0</td>\n",
              "      <td>No</td>\n",
              "      <td>1.0</td>\n",
              "      <td>3</td>\n",
              "      <td>3.0</td>\n",
              "    </tr>\n",
              "    <tr>\n",
              "      <th>3</th>\n",
              "      <td>FCEQN</td>\n",
              "      <td>FCEQN-5739</td>\n",
              "      <td>3.0</td>\n",
              "      <td>NC</td>\n",
              "      <td>-1.0</td>\n",
              "      <td>-1</td>\n",
              "      <td>-1.0</td>\n",
              "    </tr>\n",
              "    <tr>\n",
              "      <th>4</th>\n",
              "      <td>FCEQN</td>\n",
              "      <td>4683</td>\n",
              "      <td>1.0</td>\n",
              "      <td>NC</td>\n",
              "      <td>-1.0</td>\n",
              "      <td>-1</td>\n",
              "      <td>-1.0</td>\n",
              "    </tr>\n",
              "  </tbody>\n",
              "</table>\n",
              "</div>"
            ],
            "text/plain": [
              "      ua        insc  ...  sit_lab_padres estudios_padres\n",
              "0  FCEQN  FCEQN-3342  ...              -1            -1.0\n",
              "1  FCEQN  FCEQN-5396  ...              -1            -1.0\n",
              "2  FCEQN  FCEQN-3162  ...               3             3.0\n",
              "3  FCEQN  FCEQN-5739  ...              -1            -1.0\n",
              "4  FCEQN        4683  ...              -1            -1.0\n",
              "\n",
              "[5 rows x 7 columns]"
            ]
          },
          "metadata": {
            "tags": []
          },
          "execution_count": 25
        }
      ]
    },
    {
      "cell_type": "code",
      "metadata": {
        "id": "7Ot3sxEeQX3V",
        "colab_type": "code",
        "outputId": "64ffd84f-c161-4aba-f13b-54043779fc39",
        "colab": {
          "base_uri": "https://localhost:8080/",
          "height": 197
        }
      },
      "source": [
        "#Lectura del dataset de datos_persona\n",
        "\n",
        "persona = pd.read_csv('https://raw.githubusercontent.com/fernandoverduprimo/pivot2009/master/datos_personas(2).csv', ';', index_col='Unnamed: 0')\n",
        "persona.head(5)"
      ],
      "execution_count": 0,
      "outputs": [
        {
          "output_type": "execute_result",
          "data": {
            "text/html": [
              "<div>\n",
              "<style scoped>\n",
              "    .dataframe tbody tr th:only-of-type {\n",
              "        vertical-align: middle;\n",
              "    }\n",
              "\n",
              "    .dataframe tbody tr th {\n",
              "        vertical-align: top;\n",
              "    }\n",
              "\n",
              "    .dataframe thead th {\n",
              "        text-align: right;\n",
              "    }\n",
              "</style>\n",
              "<table border=\"1\" class=\"dataframe\">\n",
              "  <thead>\n",
              "    <tr style=\"text-align: right;\">\n",
              "      <th></th>\n",
              "      <th>unidad_academica</th>\n",
              "      <th>nro_inscripcion</th>\n",
              "      <th>sexo</th>\n",
              "      <th>nacionalidad</th>\n",
              "      <th>fecha_nac_alumno</th>\n",
              "      <th>fecha_egr_sec</th>\n",
              "    </tr>\n",
              "  </thead>\n",
              "  <tbody>\n",
              "    <tr>\n",
              "      <th>0</th>\n",
              "      <td>FCEQN</td>\n",
              "      <td>FCEQN-877</td>\n",
              "      <td>2</td>\n",
              "      <td>1.0</td>\n",
              "      <td>1987</td>\n",
              "      <td>2004</td>\n",
              "    </tr>\n",
              "    <tr>\n",
              "      <th>1</th>\n",
              "      <td>FCEQN</td>\n",
              "      <td>FCEQN-1294</td>\n",
              "      <td>2</td>\n",
              "      <td>1.0</td>\n",
              "      <td>1987</td>\n",
              "      <td>2017</td>\n",
              "    </tr>\n",
              "    <tr>\n",
              "      <th>2</th>\n",
              "      <td>FCEQN</td>\n",
              "      <td>FCEQN-1351</td>\n",
              "      <td>1</td>\n",
              "      <td>1.0</td>\n",
              "      <td>1987</td>\n",
              "      <td>2011</td>\n",
              "    </tr>\n",
              "    <tr>\n",
              "      <th>3</th>\n",
              "      <td>FCEQN</td>\n",
              "      <td>FCEQN-1363</td>\n",
              "      <td>2</td>\n",
              "      <td>1.0</td>\n",
              "      <td>1987</td>\n",
              "      <td>2011</td>\n",
              "    </tr>\n",
              "    <tr>\n",
              "      <th>4</th>\n",
              "      <td>FCEQN</td>\n",
              "      <td>FCEQN-1367</td>\n",
              "      <td>2</td>\n",
              "      <td>1.0</td>\n",
              "      <td>1987</td>\n",
              "      <td>2011</td>\n",
              "    </tr>\n",
              "  </tbody>\n",
              "</table>\n",
              "</div>"
            ],
            "text/plain": [
              "  unidad_academica nro_inscripcion  ...  fecha_nac_alumno  fecha_egr_sec\n",
              "0            FCEQN       FCEQN-877  ...              1987           2004\n",
              "1            FCEQN      FCEQN-1294  ...              1987           2017\n",
              "2            FCEQN      FCEQN-1351  ...              1987           2011\n",
              "3            FCEQN      FCEQN-1363  ...              1987           2011\n",
              "4            FCEQN      FCEQN-1367  ...              1987           2011\n",
              "\n",
              "[5 rows x 6 columns]"
            ]
          },
          "metadata": {
            "tags": []
          },
          "execution_count": 26
        }
      ]
    },
    {
      "cell_type": "code",
      "metadata": {
        "id": "-Nv5gBn1QX3Y",
        "colab_type": "code",
        "outputId": "a51eaa6f-ee24-4232-c578-0bfb5cb45099",
        "colab": {
          "base_uri": "https://localhost:8080/",
          "height": 34
        }
      },
      "source": [
        "#Antes de probar la integración se debe verificar la unicidad de las claves en los otros datasets \n",
        "#Se obtiene el valor de la cantidad de filas actual\n",
        "\n",
        "cant_antes = len(censales) \n",
        "\n",
        "#Se ordena el dataset según el atributo que se desee evaluar (requerido para el paso siguiente)\n",
        "\n",
        "censales.sort_values(\"insc\", inplace=True)\n",
        "\n",
        "#Se detectan y eliminan los duplicados en un atributo dejando la última ocurrencia\n",
        "\n",
        "censales.drop_duplicates(subset =\"insc\", keep = 'last', inplace = True)\n",
        "\n",
        "#Se obtiene el valor posterior a la operación\n",
        "\n",
        "cant_despues = len(censales)\n",
        "\n",
        "#Se imprimen ambos valores\n",
        "\n",
        "print(f\"Antes del análisis de duplicados: {cant_antes} - Despues del filtrado de duplicados: {cant_despues}\")"
      ],
      "execution_count": 0,
      "outputs": [
        {
          "output_type": "stream",
          "text": [
            "Antes del análisis de duplicados: 2316 - Despues del filtrado de duplicados: 2316\n"
          ],
          "name": "stdout"
        }
      ]
    },
    {
      "cell_type": "code",
      "metadata": {
        "id": "911paDoWQX3a",
        "colab_type": "code",
        "outputId": "5fa90985-0647-40b2-d802-261774fdcd74",
        "colab": {
          "base_uri": "https://localhost:8080/",
          "height": 34
        }
      },
      "source": [
        "#Antes de probar la integración se debe verificar la unicidad de las claves en los otros datasets \n",
        "#Se obtiene el valor de la cantidad de filas actual\n",
        "\n",
        "cant_antes = len(persona) \n",
        "\n",
        "#Se ordena el dataset según el atributo que se desee evaluar (requerido para el paso siguiente)\n",
        "\n",
        "persona.sort_values(\"nro_inscripcion\", inplace=True)\n",
        "\n",
        "#Se detectan y eliminan los duplicados en un atributo dejando la última ocurrencia\n",
        "\n",
        "persona.drop_duplicates(subset =\"nro_inscripcion\", keep = 'last', inplace = True)\n",
        "\n",
        "#Se obtiene el valor posterior a la operación\n",
        "\n",
        "cant_despues = len(persona)\n",
        "\n",
        "#Se imprimen ambos valores\n",
        "\n",
        "print(f\"Antes del análisis de duplicados: {cant_antes} - Despues del filtrado de duplicados: {cant_despues}\")"
      ],
      "execution_count": 0,
      "outputs": [
        {
          "output_type": "stream",
          "text": [
            "Antes del análisis de duplicados: 2316 - Despues del filtrado de duplicados: 2316\n"
          ],
          "name": "stdout"
        }
      ]
    },
    {
      "cell_type": "markdown",
      "metadata": {
        "id": "xeky-vBxQX3c",
        "colab_type": "text"
      },
      "source": [
        "**(5) Integridad referencial**"
      ]
    },
    {
      "cell_type": "code",
      "metadata": {
        "id": "WCpx5go3QX3e",
        "colab_type": "code",
        "outputId": "3e612a25-4645-4f0a-d8eb-5b83487ce23b",
        "colab": {
          "base_uri": "https://localhost:8080/",
          "height": 34
        }
      },
      "source": [
        "#Las uniones se hacen de a pares - revisar nombres de atributos\n",
        "semi_completo = pd.merge(persona, academicos, on='nro_inscripcion', how='inner')\n",
        "coincidencias_p = semi_completo.shape[0]\n",
        "\n",
        "#Para verificar se puede ejecutar\n",
        "#semi_completo.head(5)\n",
        "\n",
        "print(f\"Datos académicos: {cantidad_filas} - Coincidencias con datos_personas: {coincidencias_p}\")"
      ],
      "execution_count": 0,
      "outputs": [
        {
          "output_type": "stream",
          "text": [
            "Datos académicos: 2316 - Coincidencias con datos_personas: 1514\n"
          ],
          "name": "stdout"
        }
      ]
    },
    {
      "cell_type": "code",
      "metadata": {
        "id": "XAktZyq7QX3h",
        "colab_type": "code",
        "outputId": "2159c229-a0dc-41b1-c561-4570ff75663f",
        "colab": {
          "base_uri": "https://localhost:8080/",
          "height": 77
        }
      },
      "source": [
        "cambios = {'insc' : 'nro_inscripcion'}\n",
        "censales.rename(columns=cambios, inplace=True)\n",
        "censales.head(1)"
      ],
      "execution_count": 0,
      "outputs": [
        {
          "output_type": "execute_result",
          "data": {
            "text/html": [
              "<div>\n",
              "<style scoped>\n",
              "    .dataframe tbody tr th:only-of-type {\n",
              "        vertical-align: middle;\n",
              "    }\n",
              "\n",
              "    .dataframe tbody tr th {\n",
              "        vertical-align: top;\n",
              "    }\n",
              "\n",
              "    .dataframe thead th {\n",
              "        text-align: right;\n",
              "    }\n",
              "</style>\n",
              "<table border=\"1\" class=\"dataframe\">\n",
              "  <thead>\n",
              "    <tr style=\"text-align: right;\">\n",
              "      <th></th>\n",
              "      <th>ua</th>\n",
              "      <th>nro_inscripcion</th>\n",
              "      <th>estado_civil</th>\n",
              "      <th>sit_lab_alumno</th>\n",
              "      <th>tipo_res_alumno</th>\n",
              "      <th>sit_lab_padres</th>\n",
              "      <th>estudios_padres</th>\n",
              "    </tr>\n",
              "  </thead>\n",
              "  <tbody>\n",
              "    <tr>\n",
              "      <th>180</th>\n",
              "      <td>FCEQN</td>\n",
              "      <td>1024</td>\n",
              "      <td>1.0</td>\n",
              "      <td>NC</td>\n",
              "      <td>-1.0</td>\n",
              "      <td>-1</td>\n",
              "      <td>-1.0</td>\n",
              "    </tr>\n",
              "  </tbody>\n",
              "</table>\n",
              "</div>"
            ],
            "text/plain": [
              "        ua nro_inscripcion  ...  sit_lab_padres estudios_padres\n",
              "180  FCEQN            1024  ...              -1            -1.0\n",
              "\n",
              "[1 rows x 7 columns]"
            ]
          },
          "metadata": {
            "tags": []
          },
          "execution_count": 30
        }
      ]
    },
    {
      "cell_type": "code",
      "metadata": {
        "id": "Al5eI0_ZQX3m",
        "colab_type": "code",
        "outputId": "dc232832-ecf0-4a18-8d6f-c6ae0250599b",
        "colab": {
          "base_uri": "https://localhost:8080/",
          "height": 52
        }
      },
      "source": [
        "#Las uniones se hacen de a pares - revisar nombres de atributos\n",
        "completo = pd.merge(censales, semi_completo, on='nro_inscripcion', how='inner')\n",
        "completo.shape[0]\n",
        "\n",
        "#Para verificar se puede ejecutar\n",
        "\n",
        "completo.head(5)\n",
        "\n",
        "#Se obtiene el valor para el indicador\n",
        "\n",
        "cant_problemas = academicos.shape[0] - completo.shape[0]\n",
        "print(f\"Casos de problemas de integridad referencial: {cant_problemas}\")\n",
        "print(f\"Porcentaje de problemas de integridad referencial: {(cant_problemas / cantidad_filas)*100}%\")"
      ],
      "execution_count": 0,
      "outputs": [
        {
          "output_type": "stream",
          "text": [
            "Casos de problemas de integridad referencial: 804\n",
            "Porcentaje de problemas de integridad referencial: 34.715025906735754%\n"
          ],
          "name": "stdout"
        }
      ]
    },
    {
      "cell_type": "markdown",
      "metadata": {
        "id": "mCzWuivKQX3o",
        "colab_type": "text"
      },
      "source": [
        "**(6) Reglas en valores**"
      ]
    },
    {
      "cell_type": "code",
      "metadata": {
        "id": "fe7kAL0PQX3p",
        "colab_type": "code",
        "outputId": "4297ecd4-94d9-4448-c392-b4505d2f5294",
        "colab": {
          "base_uri": "https://localhost:8080/",
          "height": 70
        }
      },
      "source": [
        "#Finalmente (última verificación) se revisan cuestiones de aplicación de reglas en los valores del nuevo dataset\n",
        "\n",
        "#Regla: año egreso secundario (nivel medio) no puede ser mayor a año de ingreso a la carrera\n",
        "\n",
        "#Muestra\n",
        "\n",
        "nro_fila = 957\n",
        "completo.iloc[nro_fila]\n",
        "\n",
        "fecha_i = completo.fecha_ingreso_alumno.iloc[nro_fila]\n",
        "fecha_i\n",
        "ingreso = int(fecha_i[-4:])\n",
        "ingreso\n",
        "egreso = int(completo.fecha_egr_sec.iloc[nro_fila])\n",
        "egreso\n",
        "\n",
        "diferencia = ingreso - egreso\n",
        "\n",
        "print(f\" Ingreso a carrera: {ingreso} \\n Egreso nivel medio: {egreso}\\n Diferencia: {diferencia}\")"
      ],
      "execution_count": 0,
      "outputs": [
        {
          "output_type": "stream",
          "text": [
            " Ingreso a carrera: 2011 \n",
            " Egreso nivel medio: 2011\n",
            " Diferencia: 0\n"
          ],
          "name": "stdout"
        }
      ]
    },
    {
      "cell_type": "code",
      "metadata": {
        "id": "8mC_QqFdQX3r",
        "colab_type": "code",
        "outputId": "3cfabfdd-5c08-45c9-fba7-d53bfd55447d",
        "colab": {
          "base_uri": "https://localhost:8080/",
          "height": 34
        }
      },
      "source": [
        "#Se puede definir una función para aplicar los cálculos\n",
        "def reglaAnioSecundario(row):\n",
        "    #fecha_ingreso_alumno es tipo date\n",
        "    anio_ingreso = int(row['fecha_ingreso_alumno'][-4:]) #Se aisla el año\n",
        "    \n",
        "    anio_egreso_secundaria = int(row['fecha_egr_sec'])\n",
        "    diferencia = anio_ingreso - anio_egreso_secundaria\n",
        "    if (diferencia < 0):\n",
        "        #Es un error ya que no podría entrar al nivel superior sin haber finalizado en el nivel medio\n",
        "        return 'err'\n",
        "    else:\n",
        "        return 'ok'\n",
        "\n",
        "#Se verifican los valores presentes\n",
        "\n",
        "#completo.fecha_ingreso_alumno.value_counts()\n",
        "#completo.fecha_egr_sec.value_counts()\n",
        "\n",
        "\n",
        "#Se revisan los valores nulos en cada atributo\n",
        "\n",
        "#completo[completo['fecha_ingreso_alumno'].isnull()]\n",
        "#completo[completo['fecha_egr_sec'].isnull()]\n",
        "\n",
        "#Si fuera necesario completar los nulos, se podría hacer con el valor con más ocurrencias (habiendo otras opciones)\n",
        "completo['fecha_ingreso_alumno'].fillna('12/12/2010',inplace=True)\n",
        "\n",
        "#Se aplica la función para todos los elementos del dataset\n",
        "completo['diferencia_nivel'] = completo.apply(lambda row: reglaAnioSecundario(row), axis=1)\n",
        "\n",
        "#Se verifica la cantidad de elementos\n",
        "aux = completo[completo.diferencia_nivel == 'err']\n",
        "aux\n",
        "\n",
        "cant_problemas = aux.shape[0]\n",
        "print(f\"Casos de problemas de valores por reglas: {cant_problemas}\")"
      ],
      "execution_count": 0,
      "outputs": [
        {
          "output_type": "stream",
          "text": [
            "Casos de problemas de valores por reglas: 316\n"
          ],
          "name": "stdout"
        }
      ]
    },
    {
      "cell_type": "markdown",
      "metadata": {
        "id": "ERgqmwA0QX3u",
        "colab_type": "text"
      },
      "source": [
        "### Extra: detección básica de outliers"
      ]
    },
    {
      "cell_type": "code",
      "metadata": {
        "id": "30qlyF8gQX3v",
        "colab_type": "code",
        "outputId": "3c86caa9-24a9-4d35-869e-cf97a8b43009",
        "colab": {
          "base_uri": "https://localhost:8080/",
          "height": 34
        }
      },
      "source": [
        "temp_columna = academicos.drop(['unidad_academica','carrera', 'nro_inscripcion', 'regular', 'calidad', 'fecha_ingreso_alumno'], axis=1)\n",
        "\n",
        "#temp_columna\n",
        "\n",
        "#0 = cnt_readmisiones\n",
        "#1 = anio_plan_estudios\n",
        "\n",
        "promedios = np.mean(temp_columna)\n",
        "desvios = np.std(temp_columna)\n",
        "\n",
        "#print(promedios)\n",
        "#print(desvios)\n",
        "\n",
        "limite = desvios * 3 #puede ser 2 también\n",
        "lower, upper = promedios - limite, promedios + limite\n",
        "\n",
        "#print(limite)\n",
        "#print(lower)\n",
        "#print(upper)\n",
        "\n",
        "def marcar_outliers(fila):\n",
        "    valor_readmisiones = fila[0]\n",
        "    valor_anio_plan = fila[1]\n",
        "    if (valor_readmisiones < lower[0]) or (valor_readmisiones > upper[0]):\n",
        "        return True\n",
        "    elif (valor_anio_plan < lower[1]) or (valor_anio_plan > upper[1]):\n",
        "        return True\n",
        "    else:\n",
        "        return False\n",
        "        \n",
        "marcar_outliers(temp_columna.iloc[0])\n",
        "#temp_columna['outliers'] = temp_columna.apply(lambda row: marcar_outliers(row), axis=1)\n",
        "\n",
        "\n",
        "#cant_outliers = temp_columna[temp_columna.outliers == True].shape[0]\n",
        "#print(f\"Casos de tuplas potencialmente outliers: {cant_outliers}\")"
      ],
      "execution_count": 0,
      "outputs": [
        {
          "output_type": "execute_result",
          "data": {
            "text/plain": [
              "False"
            ]
          },
          "metadata": {
            "tags": []
          },
          "execution_count": 34
        }
      ]
    }
  ]
}